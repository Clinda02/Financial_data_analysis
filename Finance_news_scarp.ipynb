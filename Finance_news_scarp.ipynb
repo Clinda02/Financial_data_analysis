{
  "nbformat": 4,
  "nbformat_minor": 0,
  "metadata": {
    "colab": {
      "provenance": [],
      "authorship_tag": "ABX9TyNZfSAHViW8OKMmUggilRH6",
      "include_colab_link": true
    },
    "kernelspec": {
      "name": "python3",
      "display_name": "Python 3"
    },
    "language_info": {
      "name": "python"
    }
  },
  "cells": [
    {
      "cell_type": "markdown",
      "metadata": {
        "id": "view-in-github",
        "colab_type": "text"
      },
      "source": [
        "<a href=\"https://colab.research.google.com/github/Clinda02/financial_data_analysis/blob/main/Finance_news_scarp.ipynb\" target=\"_parent\"><img src=\"https://colab.research.google.com/assets/colab-badge.svg\" alt=\"Open In Colab\"/></a>"
      ]
    },
    {
      "cell_type": "markdown",
      "source": [
        "# 개요\n",
        "* 네이버 증권의 `뉴스` 탭의 최신 10일치 기사를 수집하여 데이터 프레임으로 생성, 데이터프레임을 `article.csv` 로 저장\n",
        "* 사이트 주소 : https://finance.naver.com/news/mainnews.naver?date=2024-10-25\n",
        "\n",
        "\n",
        "-----\n",
        "\n",
        "**네이버 증권 뉴스 탭**\n",
        "* 날짜별로 페이지가 구분되어 있고, 날짜를 변경할 경우, URL의 date의 속성값 변경\n",
        "  * `https://finance.naver.com/news/mainnews.naver?date=2024-10-25`\n",
        "\n",
        "* 각 날짜에는 페이지네이션으로 페이지가 변경됨\n",
        "  * `https://financenaver.com/news/mainnews.naver?date=2024-10-25&page=3`\n",
        "* 페이지네이션은 고려하지 않고, 첫 페이지에 있는 데이터만 수집\n",
        "\n",
        "**데이터 프레임 구조**\n",
        "* `기사제목, 본문URL, 기사본문, 날짜` 4개 칼럼으로 구성"
      ],
      "metadata": {
        "id": "PhOqk0jBmzY9"
      }
    },
    {
      "cell_type": "markdown",
      "source": [
        "# 신문기사 HTML 불러오기"
      ],
      "metadata": {
        "id": "8eckhCt7onWO"
      }
    },
    {
      "cell_type": "code",
      "execution_count": 1,
      "metadata": {
        "id": "4mbhX-iomuuQ"
      },
      "outputs": [],
      "source": [
        "from bs4 import BeautifulSoup\n",
        "import requests\n",
        "import pandas as pd\n",
        "\n",
        "# 뉴스 스크랩\n",
        "url = \"https://finance.naver.com/news/mainnews.naver?date=2024-10-31\"\n",
        "response = requests.get(url)\n",
        "\n",
        "soup = BeautifulSoup(response.text, 'lxml')"
      ]
    },
    {
      "cell_type": "markdown",
      "source": [
        "- 데이터 프레임 구조\n",
        "\n",
        "  - **기사제목**:  `<dd class=\"articleSubject\">`안에 텍스트\n",
        "  - **본문 URL**: `<dd class=\"articleSubject\">` 안에 `<a>` 태그\n",
        "  - **기사 본문**: `<div id=\"newsct_article\" class=\"newsct_article _article_body\">`\n",
        "  - **날짜**: URL에서 가져오기"
      ],
      "metadata": {
        "id": "ujf7ayg6p5Th"
      }
    },
    {
      "cell_type": "code",
      "source": [
        "# 기사제목 리스트 가져오기\n",
        "titles = soup.find_all('dd', {'class':'articleSubject'})\n",
        "titles[0]"
      ],
      "metadata": {
        "colab": {
          "base_uri": "https://localhost:8080/"
        },
        "id": "T88mWx0Prvns",
        "outputId": "93f15acc-db32-4a4b-b70a-cf454e8d71c5"
      },
      "execution_count": 2,
      "outputs": [
        {
          "output_type": "execute_result",
          "data": {
            "text/plain": [
              "<dd class=\"articleSubject\">\n",
              "<a href=\"/news/news_read.naver?article_id=0005873734&amp;office_id=018&amp;mode=mainnews&amp;type=&amp;date=2024-10-31&amp;page=1\">공개매수 하면서 유증 계획 숨겼나…‘고의누락’ 의혹 휩싸인 고려아연[마켓인]</a>\n",
              "</dd>"
            ]
          },
          "metadata": {},
          "execution_count": 2
        }
      ]
    },
    {
      "cell_type": "code",
      "source": [
        "titles[0].text.strip()"
      ],
      "metadata": {
        "colab": {
          "base_uri": "https://localhost:8080/",
          "height": 35
        },
        "id": "OQnBQcDxrvkd",
        "outputId": "864e6b6d-71cb-4978-dfc4-e644f238fd82"
      },
      "execution_count": 3,
      "outputs": [
        {
          "output_type": "execute_result",
          "data": {
            "text/plain": [
              "'공개매수 하면서 유증 계획 숨겼나…‘고의누락’ 의혹 휩싸인 고려아연[마켓인]'"
            ],
            "application/vnd.google.colaboratory.intrinsic+json": {
              "type": "string"
            }
          },
          "metadata": {},
          "execution_count": 3
        }
      ]
    },
    {
      "cell_type": "markdown",
      "source": [
        "# 상세 뉴스 본문 읽어오기"
      ],
      "metadata": {
        "id": "bh8n617or9yN"
      }
    },
    {
      "cell_type": "markdown",
      "source": [
        "## 상세 뉴스 URL 읽어오기"
      ],
      "metadata": {
        "id": "9qNZEmTVsDIs"
      }
    },
    {
      "cell_type": "code",
      "source": [
        "# 첫번째 기사의 상세페이지 URL\n",
        "titles[0].find('a').get('href')"
      ],
      "metadata": {
        "colab": {
          "base_uri": "https://localhost:8080/",
          "height": 35
        },
        "id": "0yjk9qbMrvhG",
        "outputId": "7bacc6a8-1842-4342-8606-2fd547192be6"
      },
      "execution_count": 4,
      "outputs": [
        {
          "output_type": "execute_result",
          "data": {
            "text/plain": [
              "'/news/news_read.naver?article_id=0005873734&office_id=018&mode=mainnews&type=&date=2024-10-31&page=1'"
            ],
            "application/vnd.google.colaboratory.intrinsic+json": {
              "type": "string"
            }
          },
          "metadata": {},
          "execution_count": 4
        }
      ]
    },
    {
      "cell_type": "code",
      "source": [
        "news_url = 'https://finance.naver.com' + titles[0].find('a').get('href')\n",
        "news_url"
      ],
      "metadata": {
        "colab": {
          "base_uri": "https://localhost:8080/",
          "height": 35
        },
        "id": "_b91PvlzrvbW",
        "outputId": "2ac30d15-301a-4060-ef43-5a95a242b639"
      },
      "execution_count": 5,
      "outputs": [
        {
          "output_type": "execute_result",
          "data": {
            "text/plain": [
              "'https://finance.naver.com/news/news_read.naver?article_id=0005873734&office_id=018&mode=mainnews&type=&date=2024-10-31&page=1'"
            ],
            "application/vnd.google.colaboratory.intrinsic+json": {
              "type": "string"
            }
          },
          "metadata": {},
          "execution_count": 5
        }
      ]
    },
    {
      "cell_type": "code",
      "source": [
        "# 상세 뉴스 페이지\n",
        "news_response = requests.get(news_url)\n",
        "news_soup = BeautifulSoup(news_response.text, 'lxml')\n",
        "news_soup"
      ],
      "metadata": {
        "colab": {
          "base_uri": "https://localhost:8080/"
        },
        "id": "qJs6I_L-rvWy",
        "outputId": "b089ecc5-97bd-4283-e6bd-378414e56886"
      },
      "execution_count": 6,
      "outputs": [
        {
          "output_type": "execute_result",
          "data": {
            "text/plain": [
              "<html><head><script>top.location.href='https://n.news.naver.com/mnews/article/018/0005873734';</script>\n",
              "</head></html>"
            ]
          },
          "metadata": {},
          "execution_count": 6
        }
      ]
    },
    {
      "cell_type": "markdown",
      "source": [
        "redirect 주소를 반환하고 있으므로, redirecet 주소를 사용하여 다시 상세 뉴스 페이지에 접근"
      ],
      "metadata": {
        "id": "GPmkIzOj9ImR"
      }
    },
    {
      "cell_type": "code",
      "source": [
        "news_url2 = news_soup.find('script').text.split(\"'\")[1]"
      ],
      "metadata": {
        "id": "UtBmzPO99JVI"
      },
      "execution_count": 7,
      "outputs": []
    },
    {
      "cell_type": "markdown",
      "source": [
        "## 상세 뉴스 페이지 읽어오기"
      ],
      "metadata": {
        "id": "RqLbow-S9oZI"
      }
    },
    {
      "cell_type": "code",
      "source": [
        "# 상세 뉴스페이지 재호출\n",
        "news_response2 = requests.get(news_url2)\n",
        "\n",
        "news_soup = BeautifulSoup(news_response2.text, 'lxml')"
      ],
      "metadata": {
        "collapsed": true,
        "id": "paLAZhcS9s1Q"
      },
      "execution_count": 8,
      "outputs": []
    },
    {
      "cell_type": "markdown",
      "source": [
        "## 상세 뉴스페이지 본문 파싱하기"
      ],
      "metadata": {
        "id": "KDdnDxab_Wnl"
      }
    },
    {
      "cell_type": "code",
      "source": [
        "# 뉴스 본문\n",
        "# 기사 본문: <div id=\"newsct_article\" class=\"newsct_article _article_body\">\n",
        "news_soup.find('div',{'class', 'newsct_article _article_body'}).text.strip()"
      ],
      "metadata": {
        "colab": {
          "base_uri": "https://localhost:8080/",
          "height": 256
        },
        "id": "S1SPBBkOrvTH",
        "outputId": "9d534969-cee2-4a92-c15c-633ec27d2857"
      },
      "execution_count": 9,
      "outputs": [
        {
          "output_type": "execute_result",
          "data": {
            "text/plain": [
              "'금감원, ‘위계 활용 부정거래’ 가능성 제기공개매수 주관사 미래에셋도 검사 착수향후 10일 내 공시 정정 여부 결정유상증자 철회·발행가액 정정 가능성\\n\\n\\n\\n최윤범 고려아연 회장이 기자회견에서 발언하고 있다 (사진=연합뉴스)[이데일리 마켓in 허지은 기자] 2조5000억원 규모 유상증자를 결의한 고려아연이 ‘고의 누락’ 의혹에 휩싸였다. 앞서 진행된 자사주 공개매수 기간과 유상증자 검토 기간이 겹치면서다. 고려아연의 공개매수와 유상증자 주관 업무를 모두 맡은 미래에셋증권과, 이사회에서 해당 안건을 결의한 이사진들이 이를 알고도 숨겼다면 중대한 사항의 누락, 나아가 위계 활용 부정거래 소지가 있다고 금융당국은 판단했다. 함용일 금융감독원 부원장은 31일 진행한 긴급 브리핑에서 “고려아연의 불공정거래 조사와 관련해 부정거래 행위 등을 조사하고 있다”며 “고려아연의 재무 계획상 공개매수와 유상증자 두 가지 사실을 다 알고 하나씩 내보이는 것은 (중대한 사항을) 누락하는 것이다. 고려아연 증자의 목적, 배경, 회사와 기존 주주에 미치는 영향, 증자가 주주가치 제고에 부합되는지 여부 등을 철저히 심사할 것”이라고 밝혔다. 금감원에 따르면 고려아연이 전날 발표한 유상증자 결정은 지난 14일부터 29일까지 주관사 미래에셋증권의 기업실사 후 이사회 결의를 통해 확정됐다. 14일은 MBK·영풍 연합이 공개매수를 마감한 날이다. 앞서 고려아연은 지난 2일부터 23일까지 자사주 공개매수를 진행했는데, 해당 기간과 유상증자를 위한 기업실사 기간이 겹친다. 금감원은 고려아연이 공개매수 기간 동안 유상증자를 계획했으면서 이를 알리지 않은 경우 중대한 사항을 누락했다고 봤다. 함 부원장은 “이사회가 이를 다 아는 상태에서 순차적으로 진행한 거라면 공개매수 신고서에 중대한 사항이 빠졌거나 허위 위계 부정거래 소지가 다분하다”며 “주주들이 공개매수에 응할지 의사결정할 때 이사들이 대량의 증자 소식을 알았다면 부정거래 행위 등 공개매수 허위 기재 문제점을 따져보지 않을 수 없다”고 강조했다. 금감원은 고려아연 공개매수와 유상증자를 모두 주관한 미래에셋증권에 대한 검사에도 착수했다. 공개매수와 유상증자가 동시에 진행된 과정 등에 있어 법 위반 여부에 대해 점검한다는 방침이다. 만약 미래에셋증권이 이같은 사실을 알고도 방조했다면 자본시장법상 불공정행위에 해당할 수 있다. 공개매수 과정에서 회계 부정 심사 가능성도 제기됐다. 고려아연이 △사업장 중단 등에 따른 충당 부채의 미인식 및 지연 인식했는지 △고가 인수 및 현물 배당받은 국내 투자 주식 관련 손상차손의 과소 인식했는지 여부 등을 심사 중이며, 회계처리 기준 위반 개연성이 높은 다수의 회계처리 사실에 대해선 정식 감리 전환 여부를 논의 중이라고 금감원은 밝혔다. 향후 금감원은 고려아연의 유상증자 결정 공시에 대해 10일간의 검토를 거친 뒤 정정 요구 여부를 결정할 예정이다. 함 부원장은 “고려아연이 (유상증자를) 철회하고 정정도 해나갈 수 있고, 불법행위로 인해서 회사 스스로 문제점을 파악하고 행동할 수도 있을 것”이라고 밝혔다.'"
            ],
            "application/vnd.google.colaboratory.intrinsic+json": {
              "type": "string"
            }
          },
          "metadata": {},
          "execution_count": 9
        }
      ]
    },
    {
      "cell_type": "markdown",
      "source": [
        "# 반복문 사용하여 함수로 생성하기"
      ],
      "metadata": {
        "id": "al0c2DPR_gQ1"
      }
    },
    {
      "cell_type": "code",
      "source": [
        "from bs4 import BeautifulSoup\n",
        "import requests\n",
        "import pandas as pd\n",
        "import datetime\n",
        "import time"
      ],
      "metadata": {
        "id": "-fgB5Z7BX7BB"
      },
      "execution_count": 10,
      "outputs": []
    },
    {
      "cell_type": "code",
      "source": [
        " def get_news_items(html):\n",
        "\n",
        "  # 기사 리스트 가져오기\n",
        "  titles = html.find_all('dd', {'class' :'articleSubject'})\n",
        "\n",
        "  title_list = []\n",
        "  url_list =[]\n",
        "  content_list = []\n",
        "\n",
        "  for t in titles:\n",
        "    # 뉴스 기사 제목\n",
        "    title = t.text.strip()\n",
        "    # print(f\"제목 : {title}\")\n",
        "\n",
        "    # 뉴스 기사의 상세페이지 url\n",
        "    news_url = 'https://finance.naver.com' + t.find('a').get('href')\n",
        "    # print(f\"url : {news_url}\")\n",
        "\n",
        "    # 상세페이지 request\n",
        "    news_response = requests.get(news_url)\n",
        "    news_soup = BeautifulSoup(news_response.text, 'lxml')\n",
        "\n",
        "    # 리다이렉트 주소 파싱\n",
        "    news_url2 = news_soup.find('script').text.split(\"'\")[1]\n",
        "\n",
        "    # 상세페이지 request\n",
        "    news_response2 = requests.get(news_url2)\n",
        "    news_soup = BeautifulSoup(news_response2.text, 'lxml')\n",
        "\n",
        "    # 뉴스 본문\n",
        "    content = news_soup.find('div', {'class':'newsct_article _article_body'}).text.strip()\n",
        "    # print(f\"본문 : {content}\")\n",
        "\n",
        "    # 리스트 값 저장\n",
        "    title_list.append(title)\n",
        "    url_list.append(news_url2)\n",
        "    content_list.append(content)\n",
        "\n",
        "  # 데이터프레임 저장\n",
        "  df = pd.DataFrame({\n",
        "        '기사제목' : title_list,\n",
        "        '본문url' : url_list,\n",
        "        '기사본문' : content_list\n",
        "    })\n",
        "  return df\n"
      ],
      "metadata": {
        "id": "i1OOnSdo_Ytt"
      },
      "execution_count": 11,
      "outputs": []
    },
    {
      "cell_type": "code",
      "source": [
        "news_df = pd.DataFrame()\n",
        "\n",
        "for n in range(10):\n",
        "  # 최근 n일치 데이터 지정\n",
        "  date = datetime.date.today() - datetime.timedelta(days = n)\n",
        "\n",
        "  url = f\"https://finance.naver.com/news/mainnews.naver?date={date}\"\n",
        "  response = requests.get(url)\n",
        "\n",
        "  # 상태 코드 확인\n",
        "  if response.status_code == 200:\n",
        "    print(f\"{date} 페이지 접근 성공\")\n",
        "\n",
        "    soup = BeautifulSoup(response.text, 'lxml')\n",
        "    time.sleep(1)\n",
        "\n",
        "    # 해당일 신문기사 스크랩 데이터프레임 반환\n",
        "    temp_df = get_news_items(soup)\n",
        "    temp_df['date']= date\n",
        "    news_df = pd.concat([news_df, temp_df], ignore_index =True).copy()\n",
        "\n",
        "  else :\n",
        "    print(f\"{date} 페이지 접근 실패 - 상태코드 : {response.status_code}\")"
      ],
      "metadata": {
        "id": "gZUnX9SBEUC3",
        "colab": {
          "base_uri": "https://localhost:8080/"
        },
        "outputId": "a3396118-3554-41d7-df96-0f3d693df253"
      },
      "execution_count": null,
      "outputs": [
        {
          "output_type": "stream",
          "name": "stdout",
          "text": [
            "2024-10-31 페이지 접근 성공\n",
            "2024-10-30 페이지 접근 성공\n",
            "2024-10-29 페이지 접근 성공\n",
            "2024-10-28 페이지 접근 성공\n",
            "2024-10-27 페이지 접근 성공\n",
            "2024-10-26 페이지 접근 성공\n",
            "2024-10-25 페이지 접근 성공\n",
            "2024-10-24 페이지 접근 성공\n",
            "2024-10-23 페이지 접근 성공\n",
            "2024-10-22 페이지 접근 성공\n"
          ]
        }
      ]
    },
    {
      "cell_type": "code",
      "source": [
        "news_df.info()"
      ],
      "metadata": {
        "colab": {
          "base_uri": "https://localhost:8080/"
        },
        "id": "Pis5lVmKTqMG",
        "outputId": "590b53c5-ed0f-4f3f-c2db-8f0fcd9a4018"
      },
      "execution_count": 13,
      "outputs": [
        {
          "output_type": "stream",
          "name": "stdout",
          "text": [
            "<class 'pandas.core.frame.DataFrame'>\n",
            "RangeIndex: 40 entries, 0 to 39\n",
            "Data columns (total 4 columns):\n",
            " #   Column  Non-Null Count  Dtype \n",
            "---  ------  --------------  ----- \n",
            " 0   기사제목    40 non-null     object\n",
            " 1   본문url   40 non-null     object\n",
            " 2   기사본문    40 non-null     object\n",
            " 3   date    40 non-null     object\n",
            "dtypes: object(4)\n",
            "memory usage: 1.4+ KB\n"
          ]
        }
      ]
    },
    {
      "cell_type": "code",
      "source": [
        "news_df.head()"
      ],
      "metadata": {
        "colab": {
          "base_uri": "https://localhost:8080/",
          "height": 362
        },
        "id": "TsuaZG_OrvOf",
        "outputId": "e446b385-6834-4892-b9d0-99fcfe8d0479"
      },
      "execution_count": 14,
      "outputs": [
        {
          "output_type": "execute_result",
          "data": {
            "text/plain": [
              "                                             기사제목  \\\n",
              "0      공개매수 하면서 유증 계획 숨겼나…‘고의누락’ 의혹 휩싸인 고려아연[마켓인]   \n",
              "1                   고려아연, 5일만에 `황제주` 반납…시총순위 7계단↓   \n",
              "2  고려아연에 칼 뽑은 금감원… 함용일 부원장 “당국으로서 결코 간과할 수 없는 문제”   \n",
              "3           증자할 거 알면서도 공개매수?…금감원, 고려아연 불공정 여부 살핀다   \n",
              "4                 혼돈의 코스피, 연 이틀 약세…\"애플·아마존 실적 주목\"   \n",
              "\n",
              "                                               본문url  \\\n",
              "0  https://n.news.naver.com/mnews/article/018/000...   \n",
              "1  https://n.news.naver.com/mnews/article/029/000...   \n",
              "2  https://n.news.naver.com/mnews/article/366/000...   \n",
              "3  https://n.news.naver.com/mnews/article/648/000...   \n",
              "4  https://n.news.naver.com/mnews/article/008/000...   \n",
              "\n",
              "                                                기사본문        date  \n",
              "0  금감원, ‘위계 활용 부정거래’ 가능성 제기공개매수 주관사 미래에셋도 검사 착수향후...  2024-10-31  \n",
              "1  2.5조 유상증자 결정 이후 연이틀 급락\\n\\n\\n\\n[연합뉴스 제공]    전날 ...  2024-10-31  \n",
              "2  31일 기자브리핑 개최금감원, 고려아연 이사회 결정 강한 의구심공개매수·유상증자 도...  2024-10-31  \n",
              "3  함용일 부원장, 31일 고려아연 등 자본시장현안 브리핑 공개매수와 유상증자 동시 추...  2024-10-31  \n",
              "4  내일의 전략\\n\\n\\n\\n/일러스트=임종철 디자인기자미국 대선과 실적 등 증시 불확...  2024-10-31  "
            ],
            "text/html": [
              "\n",
              "  <div id=\"df-85ff7207-4214-4ffa-95fd-1c473204c45e\" class=\"colab-df-container\">\n",
              "    <div>\n",
              "<style scoped>\n",
              "    .dataframe tbody tr th:only-of-type {\n",
              "        vertical-align: middle;\n",
              "    }\n",
              "\n",
              "    .dataframe tbody tr th {\n",
              "        vertical-align: top;\n",
              "    }\n",
              "\n",
              "    .dataframe thead th {\n",
              "        text-align: right;\n",
              "    }\n",
              "</style>\n",
              "<table border=\"1\" class=\"dataframe\">\n",
              "  <thead>\n",
              "    <tr style=\"text-align: right;\">\n",
              "      <th></th>\n",
              "      <th>기사제목</th>\n",
              "      <th>본문url</th>\n",
              "      <th>기사본문</th>\n",
              "      <th>date</th>\n",
              "    </tr>\n",
              "  </thead>\n",
              "  <tbody>\n",
              "    <tr>\n",
              "      <th>0</th>\n",
              "      <td>공개매수 하면서 유증 계획 숨겼나…‘고의누락’ 의혹 휩싸인 고려아연[마켓인]</td>\n",
              "      <td>https://n.news.naver.com/mnews/article/018/000...</td>\n",
              "      <td>금감원, ‘위계 활용 부정거래’ 가능성 제기공개매수 주관사 미래에셋도 검사 착수향후...</td>\n",
              "      <td>2024-10-31</td>\n",
              "    </tr>\n",
              "    <tr>\n",
              "      <th>1</th>\n",
              "      <td>고려아연, 5일만에 `황제주` 반납…시총순위 7계단↓</td>\n",
              "      <td>https://n.news.naver.com/mnews/article/029/000...</td>\n",
              "      <td>2.5조 유상증자 결정 이후 연이틀 급락\\n\\n\\n\\n[연합뉴스 제공]    전날 ...</td>\n",
              "      <td>2024-10-31</td>\n",
              "    </tr>\n",
              "    <tr>\n",
              "      <th>2</th>\n",
              "      <td>고려아연에 칼 뽑은 금감원… 함용일 부원장 “당국으로서 결코 간과할 수 없는 문제”</td>\n",
              "      <td>https://n.news.naver.com/mnews/article/366/000...</td>\n",
              "      <td>31일 기자브리핑 개최금감원, 고려아연 이사회 결정 강한 의구심공개매수·유상증자 도...</td>\n",
              "      <td>2024-10-31</td>\n",
              "    </tr>\n",
              "    <tr>\n",
              "      <th>3</th>\n",
              "      <td>증자할 거 알면서도 공개매수?…금감원, 고려아연 불공정 여부 살핀다</td>\n",
              "      <td>https://n.news.naver.com/mnews/article/648/000...</td>\n",
              "      <td>함용일 부원장, 31일 고려아연 등 자본시장현안 브리핑 공개매수와 유상증자 동시 추...</td>\n",
              "      <td>2024-10-31</td>\n",
              "    </tr>\n",
              "    <tr>\n",
              "      <th>4</th>\n",
              "      <td>혼돈의 코스피, 연 이틀 약세…\"애플·아마존 실적 주목\"</td>\n",
              "      <td>https://n.news.naver.com/mnews/article/008/000...</td>\n",
              "      <td>내일의 전략\\n\\n\\n\\n/일러스트=임종철 디자인기자미국 대선과 실적 등 증시 불확...</td>\n",
              "      <td>2024-10-31</td>\n",
              "    </tr>\n",
              "  </tbody>\n",
              "</table>\n",
              "</div>\n",
              "    <div class=\"colab-df-buttons\">\n",
              "\n",
              "  <div class=\"colab-df-container\">\n",
              "    <button class=\"colab-df-convert\" onclick=\"convertToInteractive('df-85ff7207-4214-4ffa-95fd-1c473204c45e')\"\n",
              "            title=\"Convert this dataframe to an interactive table.\"\n",
              "            style=\"display:none;\">\n",
              "\n",
              "  <svg xmlns=\"http://www.w3.org/2000/svg\" height=\"24px\" viewBox=\"0 -960 960 960\">\n",
              "    <path d=\"M120-120v-720h720v720H120Zm60-500h600v-160H180v160Zm220 220h160v-160H400v160Zm0 220h160v-160H400v160ZM180-400h160v-160H180v160Zm440 0h160v-160H620v160ZM180-180h160v-160H180v160Zm440 0h160v-160H620v160Z\"/>\n",
              "  </svg>\n",
              "    </button>\n",
              "\n",
              "  <style>\n",
              "    .colab-df-container {\n",
              "      display:flex;\n",
              "      gap: 12px;\n",
              "    }\n",
              "\n",
              "    .colab-df-convert {\n",
              "      background-color: #E8F0FE;\n",
              "      border: none;\n",
              "      border-radius: 50%;\n",
              "      cursor: pointer;\n",
              "      display: none;\n",
              "      fill: #1967D2;\n",
              "      height: 32px;\n",
              "      padding: 0 0 0 0;\n",
              "      width: 32px;\n",
              "    }\n",
              "\n",
              "    .colab-df-convert:hover {\n",
              "      background-color: #E2EBFA;\n",
              "      box-shadow: 0px 1px 2px rgba(60, 64, 67, 0.3), 0px 1px 3px 1px rgba(60, 64, 67, 0.15);\n",
              "      fill: #174EA6;\n",
              "    }\n",
              "\n",
              "    .colab-df-buttons div {\n",
              "      margin-bottom: 4px;\n",
              "    }\n",
              "\n",
              "    [theme=dark] .colab-df-convert {\n",
              "      background-color: #3B4455;\n",
              "      fill: #D2E3FC;\n",
              "    }\n",
              "\n",
              "    [theme=dark] .colab-df-convert:hover {\n",
              "      background-color: #434B5C;\n",
              "      box-shadow: 0px 1px 3px 1px rgba(0, 0, 0, 0.15);\n",
              "      filter: drop-shadow(0px 1px 2px rgba(0, 0, 0, 0.3));\n",
              "      fill: #FFFFFF;\n",
              "    }\n",
              "  </style>\n",
              "\n",
              "    <script>\n",
              "      const buttonEl =\n",
              "        document.querySelector('#df-85ff7207-4214-4ffa-95fd-1c473204c45e button.colab-df-convert');\n",
              "      buttonEl.style.display =\n",
              "        google.colab.kernel.accessAllowed ? 'block' : 'none';\n",
              "\n",
              "      async function convertToInteractive(key) {\n",
              "        const element = document.querySelector('#df-85ff7207-4214-4ffa-95fd-1c473204c45e');\n",
              "        const dataTable =\n",
              "          await google.colab.kernel.invokeFunction('convertToInteractive',\n",
              "                                                    [key], {});\n",
              "        if (!dataTable) return;\n",
              "\n",
              "        const docLinkHtml = 'Like what you see? Visit the ' +\n",
              "          '<a target=\"_blank\" href=https://colab.research.google.com/notebooks/data_table.ipynb>data table notebook</a>'\n",
              "          + ' to learn more about interactive tables.';\n",
              "        element.innerHTML = '';\n",
              "        dataTable['output_type'] = 'display_data';\n",
              "        await google.colab.output.renderOutput(dataTable, element);\n",
              "        const docLink = document.createElement('div');\n",
              "        docLink.innerHTML = docLinkHtml;\n",
              "        element.appendChild(docLink);\n",
              "      }\n",
              "    </script>\n",
              "  </div>\n",
              "\n",
              "\n",
              "<div id=\"df-4460d9ef-db81-4013-bf10-da391de438a2\">\n",
              "  <button class=\"colab-df-quickchart\" onclick=\"quickchart('df-4460d9ef-db81-4013-bf10-da391de438a2')\"\n",
              "            title=\"Suggest charts\"\n",
              "            style=\"display:none;\">\n",
              "\n",
              "<svg xmlns=\"http://www.w3.org/2000/svg\" height=\"24px\"viewBox=\"0 0 24 24\"\n",
              "     width=\"24px\">\n",
              "    <g>\n",
              "        <path d=\"M19 3H5c-1.1 0-2 .9-2 2v14c0 1.1.9 2 2 2h14c1.1 0 2-.9 2-2V5c0-1.1-.9-2-2-2zM9 17H7v-7h2v7zm4 0h-2V7h2v10zm4 0h-2v-4h2v4z\"/>\n",
              "    </g>\n",
              "</svg>\n",
              "  </button>\n",
              "\n",
              "<style>\n",
              "  .colab-df-quickchart {\n",
              "      --bg-color: #E8F0FE;\n",
              "      --fill-color: #1967D2;\n",
              "      --hover-bg-color: #E2EBFA;\n",
              "      --hover-fill-color: #174EA6;\n",
              "      --disabled-fill-color: #AAA;\n",
              "      --disabled-bg-color: #DDD;\n",
              "  }\n",
              "\n",
              "  [theme=dark] .colab-df-quickchart {\n",
              "      --bg-color: #3B4455;\n",
              "      --fill-color: #D2E3FC;\n",
              "      --hover-bg-color: #434B5C;\n",
              "      --hover-fill-color: #FFFFFF;\n",
              "      --disabled-bg-color: #3B4455;\n",
              "      --disabled-fill-color: #666;\n",
              "  }\n",
              "\n",
              "  .colab-df-quickchart {\n",
              "    background-color: var(--bg-color);\n",
              "    border: none;\n",
              "    border-radius: 50%;\n",
              "    cursor: pointer;\n",
              "    display: none;\n",
              "    fill: var(--fill-color);\n",
              "    height: 32px;\n",
              "    padding: 0;\n",
              "    width: 32px;\n",
              "  }\n",
              "\n",
              "  .colab-df-quickchart:hover {\n",
              "    background-color: var(--hover-bg-color);\n",
              "    box-shadow: 0 1px 2px rgba(60, 64, 67, 0.3), 0 1px 3px 1px rgba(60, 64, 67, 0.15);\n",
              "    fill: var(--button-hover-fill-color);\n",
              "  }\n",
              "\n",
              "  .colab-df-quickchart-complete:disabled,\n",
              "  .colab-df-quickchart-complete:disabled:hover {\n",
              "    background-color: var(--disabled-bg-color);\n",
              "    fill: var(--disabled-fill-color);\n",
              "    box-shadow: none;\n",
              "  }\n",
              "\n",
              "  .colab-df-spinner {\n",
              "    border: 2px solid var(--fill-color);\n",
              "    border-color: transparent;\n",
              "    border-bottom-color: var(--fill-color);\n",
              "    animation:\n",
              "      spin 1s steps(1) infinite;\n",
              "  }\n",
              "\n",
              "  @keyframes spin {\n",
              "    0% {\n",
              "      border-color: transparent;\n",
              "      border-bottom-color: var(--fill-color);\n",
              "      border-left-color: var(--fill-color);\n",
              "    }\n",
              "    20% {\n",
              "      border-color: transparent;\n",
              "      border-left-color: var(--fill-color);\n",
              "      border-top-color: var(--fill-color);\n",
              "    }\n",
              "    30% {\n",
              "      border-color: transparent;\n",
              "      border-left-color: var(--fill-color);\n",
              "      border-top-color: var(--fill-color);\n",
              "      border-right-color: var(--fill-color);\n",
              "    }\n",
              "    40% {\n",
              "      border-color: transparent;\n",
              "      border-right-color: var(--fill-color);\n",
              "      border-top-color: var(--fill-color);\n",
              "    }\n",
              "    60% {\n",
              "      border-color: transparent;\n",
              "      border-right-color: var(--fill-color);\n",
              "    }\n",
              "    80% {\n",
              "      border-color: transparent;\n",
              "      border-right-color: var(--fill-color);\n",
              "      border-bottom-color: var(--fill-color);\n",
              "    }\n",
              "    90% {\n",
              "      border-color: transparent;\n",
              "      border-bottom-color: var(--fill-color);\n",
              "    }\n",
              "  }\n",
              "</style>\n",
              "\n",
              "  <script>\n",
              "    async function quickchart(key) {\n",
              "      const quickchartButtonEl =\n",
              "        document.querySelector('#' + key + ' button');\n",
              "      quickchartButtonEl.disabled = true;  // To prevent multiple clicks.\n",
              "      quickchartButtonEl.classList.add('colab-df-spinner');\n",
              "      try {\n",
              "        const charts = await google.colab.kernel.invokeFunction(\n",
              "            'suggestCharts', [key], {});\n",
              "      } catch (error) {\n",
              "        console.error('Error during call to suggestCharts:', error);\n",
              "      }\n",
              "      quickchartButtonEl.classList.remove('colab-df-spinner');\n",
              "      quickchartButtonEl.classList.add('colab-df-quickchart-complete');\n",
              "    }\n",
              "    (() => {\n",
              "      let quickchartButtonEl =\n",
              "        document.querySelector('#df-4460d9ef-db81-4013-bf10-da391de438a2 button');\n",
              "      quickchartButtonEl.style.display =\n",
              "        google.colab.kernel.accessAllowed ? 'block' : 'none';\n",
              "    })();\n",
              "  </script>\n",
              "</div>\n",
              "\n",
              "    </div>\n",
              "  </div>\n"
            ],
            "application/vnd.google.colaboratory.intrinsic+json": {
              "type": "dataframe",
              "variable_name": "news_df",
              "summary": "{\n  \"name\": \"news_df\",\n  \"rows\": 40,\n  \"fields\": [\n    {\n      \"column\": \"\\uae30\\uc0ac\\uc81c\\ubaa9\",\n      \"properties\": {\n        \"dtype\": \"string\",\n        \"num_unique_values\": 40,\n        \"samples\": [\n          \"\\uae08\\ub9ac \\uc778\\uc0c1 \\uc758\\uc9c0 \\ub4dc\\ub7ec\\ub0b8 BOJ\\u2026\\uc6d0\\ud654 \\uac12 \\uc5f4\\ud758\\ub9cc\\uc5d0 1370\\uc6d0\\ub300\\ub85c [\\ud55c\\uacbd \\uc678\\ud658\\uc2dc\\uc7a5 \\uc6cc\\uce58]\",\n          \"'\\ud2b8\\ub7fc\\ud504' \\ub2f9\\uc120 \\uac00\\ub2a5\\uc131\\uc5d0 P-CBO \\uae08\\ub9ac \\uc0c1\\uc2b9 \\uc804\\ud658[fn\\ub9c8\\ucf13\\uc6cc\\uce58]\",\n          \"\\uc77c\\ubcf8\\uc740\\ud589 \\ucd1d\\uc7ac \\\"\\uae08\\ub9ac\\uc778\\uc0c1 \\uc2dc\\uc810, \\uc608\\ub2e8\\ud558\\uc9c0 \\uc54a\\uc544...\\ub9e4 \\ud68c\\uc758 \\uacb0\\uc815\\\"\"\n        ],\n        \"semantic_type\": \"\",\n        \"description\": \"\"\n      }\n    },\n    {\n      \"column\": \"\\ubcf8\\ubb38url\",\n      \"properties\": {\n        \"dtype\": \"string\",\n        \"num_unique_values\": 40,\n        \"samples\": [\n          \"https://n.news.naver.com/mnews/article/015/0005051405\",\n          \"https://n.news.naver.com/mnews/article/014/0005261421\",\n          \"https://n.news.naver.com/mnews/article/277/0005493229\"\n        ],\n        \"semantic_type\": \"\",\n        \"description\": \"\"\n      }\n    },\n    {\n      \"column\": \"\\uae30\\uc0ac\\ubcf8\\ubb38\",\n      \"properties\": {\n        \"dtype\": \"string\",\n        \"num_unique_values\": 40,\n        \"samples\": [\n          \"\\uc0ac\\uc9c4=\\uc5f0\\ud569\\ub274\\uc2a4\\uc77c\\ubcf8\\uc740\\ud589(BOJ)\\uc758 \\uae08\\uc735\\uc815\\ucc45\\uacb0\\uc815\\ud68c\\uc758 \\uc774\\ud6c4 \\uc5d4\\ud654 \\uac15\\uc138\\uac00 \\ub098\\ud0c0\\ub098\\uba74\\uc11c \\uc6d0\\u00b7\\ub2ec\\ub7ec \\ud658\\uc728\\uc774 1370\\uc6d0\\ub300\\ub85c \\ud558\\ub77d\\ud588\\ub2e4. \\ubbf8\\uad6d\\uc758 \\uacbd\\uc81c\\uac00 \\uc608\\uc0c1\\ubcf4\\ub2e4 \\ub2e4\\uc18c \\ubd80\\uc9c4\\ud55c \\uac83\\uc73c\\ub85c \\ub098\\ud0c0\\ub09c \\uc810\\ub3c4 \\uc6d0\\ud654 \\uac15\\uc138 \\uc694\\uc778\\uc73c\\ub85c \\uc791\\uc6a9\\ud588\\ub2e4.31\\uc77c \\uc11c\\uc6b8 \\uc678\\ud658\\uc2dc\\uc7a5\\uc5d0\\uc11c \\uc6d0\\u00b7\\ub2ec\\ub7ec \\ud658\\uc728(\\uc624\\ud6c4 3\\uc2dc30\\ubd84 \\uae30\\uc900)\\uc740 \\uc804\\ub0a0\\ubcf4\\ub2e4 2\\uc6d050\\uc804 \\ub0b4\\ub9b0 1379\\uc6d090\\uc804\\uc5d0 \\uac70\\ub798\\ub410\\ub2e4. \\ud658\\uc728\\uc774 1370\\uc6d0\\ub300\\ub85c \\ub0b4\\ub824\\uc628 \\uac83\\uc740 \\uc9c0\\ub09c 21\\uc77c(1375\\uc6d020\\uc804) \\uc774\\ud6c4 \\uc5f4\\ud758\\ub9cc\\uc774\\ub2e4.\\uc774\\ub0a0 \\ud658\\uc728\\uc740 \\uc804\\ub0a0\\ubcf4\\ub2e4 1\\uc6d040\\uc804 \\ud558\\ub77d\\ud55c 1381\\uc6d0\\uc5d0 \\uac1c\\uc7a5\\ud588\\ub2e4. 1377\\uc6d0\\u223c1381\\uc6d050\\uc804 \\uc0ac\\uc774\\uc5d0\\uc11c \\ub4f1\\ub77d\\ud588\\ub2e4.BOJ\\uc758 \\uae08\\uc735\\uc815\\ucc45\\uacb0\\uc815\\ud68c\\uc758 \\uc774\\ud6c4 \\uc5d4\\ud654\\uac00 \\uac15\\uc138\\ub97c \\ub098\\ud0c0\\ub0b4\\uba74\\uc11c \\uc6d0\\ud654\\ub3c4 \\uac15\\uc138 \\uc555\\ub825\\uc744 \\ubc1b\\uc558\\ub2e4. BOJ\\ub294 \\uc774\\ub0a0 \\uc815\\ucc45\\uae08\\ub9ac\\ub97c \\ub3d9\\uacb0\\ud558\\uba74\\uc11c\\ub3c4, \\uacbd\\uc81c\\uc640 \\ubb3c\\uac00\\uac00 \\uc608\\uc0c1\\ub300\\ub85c \\uc6c0\\uc9c1\\uc774\\uba74 \\uae08\\ub9ac \\uc778\\uc0c1\\uc744 \\uc9c0\\uc18d\\ud558\\uaca0\\ub2e4\\ub294 \\uc785\\uc7a5\\uc744 \\uc720\\uc9c0\\ud588\\ub2e4.\\uc6d4\\ub9d0 \\uc218\\ucd9c\\uc5c5\\uccb4 \\ub124\\uace0(\\ub2ec\\ub7ec \\ub9e4\\ub3c4) \\ubb3c\\ub7c9\\ub3c4 \\ud658\\uc728 \\ud558\\ub77d \\uc694\\uc778\\uc73c\\ub85c \\uc791\\uc6a9\\ud588\\ub2e4. \\ubbf8\\uad6d\\uc758 3\\ubd84\\uae30 \\uacbd\\uc81c\\uc131\\uc7a5\\ub960\\uc774 \\uc2dc\\uc7a5 \\uc804\\ub9dd\\uce58(3.0%)\\ubcf4\\ub2e4 \\ub0ae\\uc740 2.8%\\ub85c \\ub098\\ud0c0\\ub098\\ub294 \\ub4f1 \\uacbd\\uc81c\\uac00 \\ub2e4\\uc18c \\uc2dd\\uc740 \\uac83\\uc73c\\ub85c \\ub098\\ud0c0\\ub098\\uba74\\uc11c \\ub2ec\\ub7ec\\ud654\\uc9c0\\uc218\\uac00 \\ud558\\ub77d\\ud55c \\uac83\\ub3c4 \\uc601\\ud5a5\\uc744 \\uc92c\\ub2e4.\\ub2e4\\ub9cc \\uc678\\uad6d\\uc778\\uc758 \\uad6d\\ub0b4 \\uc99d\\uc2dc \\uc21c\\ub9e4\\ub3c4\\ub294 \\ud658\\uc728 \\ub099\\ud3ed\\uc744 \\uc81c\\ud55c\\ud588\\ub2e4. \\uc774\\ub0a0 \\ucf54\\uc2a4\\ud53c\\ub294 \\uc804 \\uac70\\ub798\\uc77c\\ubcf4\\ub2e4 37.64\\ud3ec\\uc778\\ud2b8(1.45%) \\ub0b4\\ub9b0 2,556.15\\ub85c \\uc7a5\\uc744 \\ub9c8\\ucce4\\ub2e4. \\uc678\\uad6d\\uc778\\ub4e4\\uc740 \\uc774\\ub0a0 \\uc720\\uac00\\uc99d\\uad8c\\uc2dc\\uc7a5\\uc5d0\\uc11c \\uc57d 8633\\uc5b5\\uc6d0\\uc744 \\uc21c\\ub9e4\\ub3c4\\ud588\\ub2e4.\\uc624\\ud6c4 3\\uc2dc 30\\ubd84 \\uae30\\uc900 \\uc6d0\\u00b7\\uc5d4 \\uc7ac\\uc815\\ud658\\uc728\\uc740 100\\uc5d4\\ub2f9 903\\uc6d022\\uc804\\uc774\\ub2e4. \\uc804\\uc77c \\uc624\\ud6c4 3\\uc2dc 30\\ubd84 \\uae30\\uc900\\uac00(901\\uc6d050\\uc804)\\ubcf4\\ub2e4 1\\uc6d072\\uc804 \\uc62c\\ub790\\ub2e4.\",\n          \"\\uc120\\uc21c\\uc704 3.222\\u21923.310~3.349%..\\ucd5c\\uc800\\uce58 \\ud589\\ubcf4 \\ub05d\\ub098 \\n\\n\\n\\n\\uc2e0\\uc6a9\\ubcf4\\uc99d\\uae30\\uae08 \\uc0ac\\uc625 \\uc804\\uacbd. \\uc2e0\\uc6a9\\ubcf4\\uc99d\\uae30\\uae08 \\uc81c\\uacf5 [\\ud30c\\uc774\\ub0b8\\uc15c\\ub274\\uc2a4] \\uc2e0\\uc6a9\\ubcf4\\uc99d\\uae30\\uae08\\uc774 \\uacf5\\uae09\\ud558\\ub294 \\ud504\\ub77c\\uc774\\uba38\\ub9ac \\ucc44\\uad8c\\ub2f4\\ubcf4\\ubd80\\uc99d\\uad8c(P-CBO) \\uae08\\ub9ac\\uac00 \\uc0c1\\uc2b9\\uc73c\\ub85c \\uc804\\ud658\\ub410\\ub2e4. \\uc5f0\\uc911 \\ucd5c\\uc800\\uce58\\ub97c \\uae30\\ub85d\\ud558\\ub294 \\ud589\\ubcf4\\ub3c4 \\ub05d\\ub0ac\\ub2e4.   \\ub3c4\\ub110\\ub4dc \\ud2b8\\ub7fc\\ud504 \\ubbf8\\uad6d \\uacf5\\ud654\\ub2f9 \\ub300\\uc120 \\ud6c4\\ubcf4\\uc758 \\ub2f9\\uc120 \\uac00\\ub2a5\\uc131\\uc774 \\uc81c\\uae30\\ub418\\uba74\\uc11c \\uae08\\ub9ac \\uc778\\ud558\\uac00 \\ub354 \\uc774\\uc0c1 \\uc5b4\\ub824\\uc6b8 \\uc218 \\uc788\\ub2e4\\ub294 \\uc2ec\\ub9ac\\uac00 \\uc601\\ud5a5\\uc744 \\ubbf8\\uce5c \\uac83\\uc73c\\ub85c \\ubcf4\\uc778\\ub2e4. \\ud2b8\\ub7fc\\ud504 \\uc804 \\ub300\\ud1b5\\ub839\\uc740 \\uc9c0\\ucd9c \\ubc0f \\uac10\\uc138 \\uacf5\\uc57d\\uc744 \\ub0b4\\uac74\\ub9cc\\ud07c \\ub2f9\\uc120\\uc2dc \\ubbf8\\uad6d\\uc758 \\uc7ac\\uc815\\uc801\\uc790\\uac00 \\uc2ec\\ud654\\ub420 \\uac83\\uc774\\ub780 \\uad00\\uce21\\uc774 \\ub098\\uc624\\uace0 \\uc788\\ub2e4.   10\\uc6d4 31\\uc77c \\ud22c\\uc790\\uc740\\ud589(IB) \\uc5c5\\uacc4\\uc5d0 \\ub530\\ub974\\uba74 10\\uc6d4 \\ub9d0 \\ucc28\\ud658 \\ubaa9\\uc801\\uc778 '\\uc2e0\\ubcf42024\\uc81c22~23\\ucc28'\\uc758 \\uc120\\uc21c\\uc704(824\\uc5b5\\uc6d0, 1903\\uc5b5\\uc6d0) \\uae08\\ub9ac\\ub294 \\uac01\\uac01 3.310%\\ub2e4. \\uc9c1\\uc804\\uc778 '\\uc2e0\\ubcf42024\\uc81c19~20\\ucc28'\\uac00 3.222%\\uc600\\ub358 \\uac83\\uc5d0 \\ube44\\ud558\\uba74 \\uc0c1\\uc2b9 \\uc804\\ud658\\uc774\\ub2e4. \\uac00\\uc0b0\\uae08\\ub9ac\\uac00 \\uc5c6\\ub294 \\ub9cc\\ud07c AAA\\ud68c\\uc0ac\\ucc442\\ub144\\ubb3c \\uae30\\uc900\\uae08\\ub9ac\\uc758 \\uc0c1\\uc2b9\\uc5d0 \\ub530\\ub978 \\uae08\\ub9ac \\uc778\\uc0c1\\uc774\\ub2e4.   \\uc2e0\\uaddc \\ubaa9\\uc801\\uc778 '\\uc2e0\\ubcf42024\\uc81c21\\ucc28'\\uc758 \\uc120\\uc21c\\uc704(780\\uc5b5\\uc6d0) \\uae08\\ub9ac\\ub294 3.349%\\ub2e4. AAA\\ud68c\\uc0ac\\ucc443\\ub144\\ubb3c \\uae30\\uc900\\uae08\\ub9ac\\uc5d0 \\uac00\\uc0b0\\uae08\\ub9ac\\ub294 \\uc5c6\\ub2e4. \\ud6c4\\uc21c\\uc704 \\uae08\\ub9ac\\ub294 21\\ucc28 3.749%, 22\\ucc28 3.610%, 23\\ucc28 3.710%\\ub85c \\uacb0\\uc815\\ub410\\ub2e4. 9\\uc6d4 \\ub9d0 3.522~3.646% \\ub300\\ube44 \\uae08\\ub9ac \\ub808\\ubca8\\uc774 \\ub192\\uc544\\uc84c\\ub2e4.   IB \\uc5c5\\uacc4 \\uad00\\uacc4\\uc790\\ub294 \\\"\\ubbf8\\uad6d\\uacfc \\uc6b0\\ub9ac\\ub098\\ub77c\\uc640\\uc758 \\uae30\\uc900\\uae08\\ub9ac\\uac00 \\uc5ed\\uc804\\ub41c \\uc0c1\\ud669\\uc5d0\\uc11c \\ubbf8\\uad6d \\uc5f0\\ubc29\\uc900\\ube44\\uc81c\\ub3c4\\uc758 \\uae08\\ub9ac \\uc778\\ud558 \\uc18d\\ub3c4\\uac00 \\uc608\\uc0c1\\ubcf4\\ub2e4 \\ube60\\ub974\\uc9c0 \\uc54a\\uc744 \\uac83\\uc774\\ub780 \\uc804\\ub9dd\\uc774 \\ub098\\uc624\\uace0 \\uc788\\ub2e4\\\"\\uba70 \\\"\\ud2b8\\ub7fc\\ud504 \\uc804 \\ub300\\ud1b5\\ub839\\uc758 \\ub2f9\\uc120\\uc2dc \\ud55c\\uad6d\\uc740\\ud589\\uc774 \\ucd94\\uac00 \\uae08\\ub9ac \\uc778\\ud558\\uc5d0 \\ub098\\uc11c\\uae30 \\ubd80\\ub2f4\\uc2a4\\ub7ec\\uc6b8 \\uac83\\\"\\uc774\\ub77c\\uace0 \\ub0b4\\ub2e4\\ubd24\\ub2e4.   \\ub2e4\\ub9cc \\uc120\\uc21c\\uc704 P-CBO\\uc5d0 \\uac00\\uc0b0\\uae08\\ub9ac\\uac00 \\uc5c6\\ub294 \\ub9cc\\ud07c \\uc2dc\\uc7a5 \\uc0c1\\ud669\\uc758 \\ubcc0\\ud654\\uac00 \\uc788\\uc744 \\uacbd\\uc6b0 \\uae08\\ub9ac \\ud558\\ub77d \\ubc18\\uc804\\uc774 \\uac00\\ub2a5\\ud558\\ub2e4. \\uc2e0\\ubcf4\\uc758 P-CBO \\uac00\\uc0b0\\uae08\\ub9ac\\ub294 \\uc120\\uc21c\\uc704 \\uae30\\uc900 2022\\ub144 0.75%\\ub97c \\uae30\\ub85d\\ud55c \\ud6c4 0.05%\\ub85c \\ub0ae\\uc544\\uc84c\\ub2e4\\uac00 2023\\ub144 \\uc5f0\\ub9d0\\uc5d0\\ub294 0.15%\\uae4c\\uc9c0 \\uce58\\uc19f\\uc558\\ub2e4. \\uc62c\\ud574 \\ub4e4\\uc5b4\\uc120 1\\uc6d4 0.04%, 2\\uc6d4\\uacfc 3\\uc6d4\\uc5d0 0.01%\\uc5d0 \\uadf8\\uce58\\ub2e4\\uac00 4\\uc6d4\\ubd80\\ud130\\ub294 \\uac00\\uc0b0\\uae08\\ub9ac\\uac00 \\uc5c6\\uc5c8\\ub2e4.   \\uc2e0\\ubcf4\\uc758 \\uc720\\ub3d9\\ud654\\ud68c\\uc0ac\\ubcf4\\uc99d\\uc740 \\uac1c\\ubcc4\\uae30\\uc5c5\\uc774 \\ubc1c\\ud589\\ud558\\ub294 \\ud68c\\uc0ac\\ucc44 \\ub4f1\\uc744 \\uae30\\ucd08\\uc790\\uc0b0\\uc73c\\ub85c \\uc720\\ub3d9\\ud654\\uc99d\\uad8c\\uc744 \\ubc1c\\ud589, \\uae30\\uc5c5\\uc774 \\uc9c1\\uc811\\uae08\\uc735\\uc2dc\\uc7a5\\uc5d0\\uc11c \\uc790\\uae08\\uc744 \\uc870\\ub2ec\\ud560 \\uc218 \\uc788\\ub3c4\\ub85d \\uc9c0\\uc6d0\\ud558\\ub294 \\uc81c\\ub3c4\\ub2e4. \\uc0c1\\ub300\\uc801\\uc73c\\ub85c \\ub0ae\\uc740 \\uae08\\ub9ac\\uc5d0 \\uc790\\uae08\\uc744 \\uc870\\ub2ec\\uc744 \\ud560 \\uc218 \\uc788\\uc5b4 '\\uc2dc\\uc7a5 \\uc548\\uc804\\ud310' \\uc5ed\\ud560\\uc744 \\ud558\\ub294 \\uac83\\uc73c\\ub85c \\ud3c9\\uac00\\ub41c\\ub2e4. \\uc720\\uc0ac\\uc2dc \\uc2e0\\ubcf4\\uac00 \\ub300\\uc704\\ubcc0\\uc81c\\ub97c \\ud574\\uc8fc\\ub294 \\ub9cc\\ud07c \\uc2dc\\uc911\\uc758 \\uc870\\ub2ec\\uae08\\ub9ac\\ubcf4\\ub2e4 \\ub0ae\\ub2e4. \\uc62c\\ud574 \\uc2e0\\ubcf4\\ub294 \\uc2e0\\uaddc \\ubaa9\\uc801 2\\uc8705000\\uc5b5\\uc6d0, \\ucc28\\ud658 \\ubaa9\\uc801 2\\uc8704000\\uc5b5\\uc6d0 \\ub4f1 \\ucd1d 4\\uc8709000\\uc5b5\\uc6d0\\uc5b4\\uce58\\ub97c \\ubc1c\\ud589\\ud560 \\uacc4\\ud68d\\uc774\\ub2e4. \\uc9c0\\ub09c\\ud574 4\\uc8708000\\uc5b5\\uc6d0\\ubcf4\\ub2e4 \\uc18c\\ud3ed \\ub298\\uc5b4\\ub09c \\uc218\\uc900\\uc774\\ub2e4.   IB\\uc5c5\\uacc4 \\uad00\\uacc4\\uc790\\ub294 \\\"\\uac74\\uc124\\uc5c5\\uc885\\uc744 \\uc911\\uc2ec\\uc73c\\ub85c P-CBO\\ub97c \\ud1b5\\ud55c \\uc790\\uae08\\uc870\\ub2ec\\uc5d0 \\uc758\\uc874\\ud558\\ub294 \\uacbd\\ud5a5\\uc774 \\uc788\\ub2e4. \\uac00\\uc0b0\\uae08\\ub9ac\\ub97c \\ud3ec\\ud568\\ud574\\ub3c4 \\uc800\\uae08\\ub9ac\\uc778 \\ub370\\ub2e4 \\uc548\\uc815\\uc801\\uc73c\\ub85c \\uc790\\uae08\\uc744 \\uc870\\ub2ec\\ud560 \\uc218 \\uc788\\ub294 \\ud1b5\\ub85c\\ub85c \\uc778\\uc2dd\\ub418\\uae30 \\ub54c\\ubb38\\\"\\uc774\\ub77c\\uba70 \\\"\\ub2e4\\ub9cc \\uae08\\ub9ac\\uac00 \\ub300\\ud3ed \\ub0b4\\ub9ac\\uc9c0 \\uc54a\\ub294 \\ud55c P-CBO \\uae08\\ub9ac\\ub3c4 \\ud55c\\uacc4\\uac00 \\uc788\\ub294 \\ub9cc\\ud07c \\ub9ac\\uc2a4\\ud06c\\uc5d0 \\ub300\\ube44\\ud574 \\ubcf8\\uaca9\\uc801\\uc778 '\\uad6c\\uc870\\uc870\\uc815'\\uc774 \\ud544\\uc694\\ud558\\ub2e4\\ub294 \\uc2dc\\uac01\\ub3c4 \\uc788\\ub2e4\\\"\\uace0 \\ub9d0\\ud588\\ub2e4. #P-CBO #\\uc2e0\\uc6a9\\ubcf4\\uc99d\\uae30\\uae08\",\n          \"\\uc6b0\\uc5d0\\ub2e4 \\uce74\\uc988\\uc624 \\uc77c\\ubcf8\\uc740\\ud589(BOJ) \\ucd1d\\uc7ac\\uac00 31\\uc77c \\\"\\uacbd\\uc81c\\u00b7\\ubb3c\\uac00 \\uc804\\ub9dd\\uc774 \\uc2e4\\ud604\\ub418\\uba74 \\uadf8\\uc5d0 \\ub530\\ub77c \\uc815\\ucc45\\uae08\\ub9ac\\ub97c \\ub04c\\uc5b4\\uc62c\\ub9ac\\uaca0\\ub2e4\\\"\\ub294 \\uc785\\uc7a5\\uc744 \\uc7ac\\ud655\\uc778\\ud588\\ub2e4. \\uad6c\\uccb4\\uc801\\uc778 \\uae08\\ub9ac \\uc778\\uc0c1 \\uc2dc\\uc810\\uc5d0 \\ub300\\ud574\\uc11c\\ub294 \\\"\\uc608\\ub2e8\\ud560 \\uc218 \\uc5c6\\ub2e4\\\"\\uace0 \\uc120\\uc744 \\uadf8\\uc5c8\\ub2e4.\\n\\n\\n\\n[\\uc774\\ubbf8\\uc9c0\\ucd9c\\ucc98=\\ub85c\\uc774\\ud130\\uc5f0\\ud569\\ub274\\uc2a4]\\uc6b0\\uc5d0\\ub2e4 \\ucd1d\\uc7ac\\ub294 \\uc774\\ub0a0 \\uae08\\uc735\\uc815\\ucc45\\uacb0\\uc815\\ud68c\\uc758 \\uc9c1\\ud6c4 \\uae30\\uc790\\ud68c\\uacac\\uc5d0 \\ucc38\\uc11d\\ud574 \\uc774\\uac19\\uc774 \\ubc1d\\ud614\\ub2e4. BOJ\\ub294 \\uc774\\ub0a0\\uae4c\\uc9c0 \\uc774\\ud2c0\\uac04 \\uc5f4\\ub9b0 \\ud68c\\uc758\\uc5d0\\uc11c \\uae30\\uc900\\uae08\\ub9ac\\uc778 \\ub2e8\\uae30 \\uc815\\ucc45\\uae08\\ub9ac\\ub97c 0.25%\\ub85c \\uc720\\uc9c0\\ud588\\ub2e4. \\uc55e\\uc11c \\uc9c0\\ub09c 3\\uc6d4 \\uae30\\uc900\\uae08\\ub9ac\\ub97c \\uc778\\uc0c1\\ud558\\uba70 \\ub9c8\\uc774\\ub108\\uc2a4 \\uae08\\ub9ac \\uc815\\ucc45\\uc5d0 \\ub9c8\\uce68\\ud45c\\ub97c \\ucc0d\\uc740 BOJ\\ub294 7\\uc6d4 \\ud68c\\uc758\\uc5d0\\uc11c \\ucd94\\uac00 \\uae08\\ub9ac \\uc778\\uc0c1\\uc5d0 \\ub098\\uc130\\uc5c8\\ub2e4. \\uc774\\ud6c4 \\uc9c0\\ub09c\\ub2ec\\uc5d0 \\uc774\\uc5b4 \\uc774\\ub2ec\\uae4c\\uc9c0 \\ub3d9\\uacb0 \\ud589\\ubcf4\\ub97c \\uc774\\uc5b4\\uac00\\uace0 \\uc788\\ub2e4.\\uc6b0\\uc5d0\\ub2e4 \\ucd1d\\uc7ac\\ub294 \\ud5a5\\ud6c4 \\uae08\\uc735\\uc815\\ucc45\\uc5d0 \\ub300\\ud574 \\\"\\ub9e4\\ubc88 \\ud68c\\uc758\\uac00 \\uc5f4\\ub9b4 \\ub54c\\uae4c\\uc9c0 \\uc5bb\\uc740 \\ub370\\uc774\\ud130\\ub97c \\ubc14\\ud0d5\\uc73c\\ub85c \\ud310\\ub2e8\\ud574 \\ub098\\uac08 \\uac83\\\"\\uc774\\ub77c\\uace0 \\uc124\\uba85\\ud588\\ub2e4. \\ub610\\ud55c \\uacbd\\uc81c, \\ubb3c\\uac00 \\uc9c0\\ud45c\\uac00 \\uc608\\uc0c1\\ub300\\ub85c \\uc6c0\\uc9c1\\uc77c \\uacbd\\uc6b0 \\ucd94\\uac00 \\uae08\\ub9ac \\uc778\\uc0c1\\uc5d0 \\ub098\\uc124 \\uc218 \\uc788\\ub2e4\\uba74\\uc11c\\ub3c4 \\uad6c\\uccb4\\uc801\\uc778 \\uc2dc\\uae30\\ub294 \\uc804\\ub9dd\\ud558\\uc9c0 \\uc54a\\uc558\\ub2e4. \\ub2c8\\ud63c\\uac8c\\uc774\\uc790\\uc774\\uc2e0\\ubb38\\uc744 \\ube44\\ub86f\\ud55c \\ud604\\uc9c0 \\uc5b8\\ub860\\ub4e4\\uc740 \\uc6b0\\uc5d0\\ub2e4 \\ucd1d\\uc7ac\\uac00 \\ucd5c\\uadfc \\ubc29\\ubbf8 \\uc911 \\uae08\\ub9ac \\uc778\\uc0c1\\uacfc \\uad00\\ub828\\ud55c \\uc9c8\\ubb38\\uc744 \\ubc1b\\uace0 \\\"\\uc77c\\ub2e8 \\uc2dc\\uac04\\uc801 \\uc5ec\\uc720\\ub294 \\uc788\\ub2e4\\\"\\uace0 \\ub2f5\\ubcc0\\ud588\\ub358 \\uc0ac\\uc2e4\\uc5d0 \\uc8fc\\ubaa9\\ud588\\ub2e4. \\uc6b0\\uc5d0\\ub2e4 \\ucd1d\\uc7ac\\ub294 \\uc774\\ub0a0\\ub3c4 \\ubbf8\\uad6d\\uc744 \\ube44\\ub86f\\ud55c \\uae00\\ub85c\\ubc8c \\uacbd\\uc81c \\uad00\\ub828 \\uc9c8\\ubb38\\uc744 \\ubc1b\\uace0 \\\"\\ud558\\ubc29 \\ud754\\ub4e4\\ub9bc\\uc758 \\uc694\\uc778\\uc73c\\ub85c \\ubcf4\\uace0 \\uc788\\uc5c8\\uc73c\\ub098 \\uc870\\uae08\\uc529 \\uc548\\uac1c\\uac00 \\uac77\\ud788\\uace0 \\uc788\\ub2e4\\\"\\uace0 \\ud3c9\\uac00\\ud588\\ub2e4. \\ub2e4\\ub9cc 11\\uc6d4 \\ubbf8\\uad6d \\ub300\\uc120 \\uc774\\ud6c4 \\ucc28\\uae30 \\ub300\\ud1b5\\ub839\\uc758 \\uc815\\ucc45 \\ubc29\\ud5a5\\uc5d0 \\ub530\\ub77c \\uc0c8\\ub85c\\uc6b4 \\ub9ac\\uc2a4\\ud06c\\uac00 \\ub4f1\\uc7a5\\ud560 \\uc218 \\uc788\\ub2e4\\ub294 \\uc0ac\\uc2e4\\ub3c4 \\uc9c0\\uc801\\ud588\\ub2e4. \\uc77c\\ubcf8 \\uad6d\\ub0b4 \\uacbd\\uae30\\uc0c1\\ud669\\uc5d0 \\ub300\\ud574\\uc11c\\ub294 \\\"\\uc77c\\ubd80 \\uc57d\\ud55c \\uc6c0\\uc9c1\\uc784\\uc774 \\uc788\\ub2e4\\\"\\uba74\\uc11c\\ub3c4 \\\"\\uc644\\ub9cc\\ud558\\uac8c \\ud68c\\ubcf5\\ud558\\uace0 \\uc788\\ub2e4\\\"\\uace0 \\ud3c9\\uac00\\ud588\\ub2e4. \\uc678\\ud658\\uc2dc\\uc7a5\\uc5d0\\uc11c \\uc5d4\\uc800\\uac00 \\ub098\\ud0c0\\ub098\\uace0 \\uc788\\ub294\\ub370 \\ub300\\ud574\\uc11c\\ub294 \\\"\\uacfc\\uac70\\uc5d0 \\ube44\\ud574 \\ubb3c\\uac00\\uc5d0 \\uc601\\ud5a5\\uc744 \\ubbf8\\uce58\\uae30 \\uc26c\\uc6cc \\uc0c1\\ud669\\uc744 \\uacc4\\uc18d \\uc720\\uc758\\ud560 \\ud544\\uc694\\uac00 \\uc788\\ub2e4\\\"\\uace0 \\uc9da\\uc5c8\\ub2e4.BOJ\\ub294 \\uc774\\ub0a0 \\uacbd\\uc81c \\ubc0f \\ubb3c\\uac00 \\uc804\\ub9dd \\uc5c5\\ub370\\uc774\\ud2b8\\ub3c4 \\uacf5\\uac1c\\ud588\\ub2e4. \\uc18c\\ube44\\uc790\\ubb3c\\uac00\\uc9c0\\uc218(\\uc2e0\\uc120\\uc2dd\\ud488 \\uc81c\\uc678 \\uae30\\uc900) \\uc0c1\\uc2b9\\ub960 \\uc804\\ub9dd\\uce58\\ub294 2024\\ub144(24\\ub1444\\uc6d4~25\\ub1443\\uc6d4) 2.5%\\ub85c \\uc9c1\\uc804(7\\uc6d4 \\uc804\\ub9dd)\\uacfc \\ub3d9\\uc77c\\ud588\\ub2e4. 2025\\ub144(25\\ub1444\\uc6d4~26\\ub1443\\uc6d4)\\uc740 0.2%\\ud3ec\\uc778\\ud2b8 \\ud558\\ud5a5\\ud55c 1.9%\\ub97c \\uc81c\\uc2dc\\ud588\\ub2e4. \\ub610\\ud55c \\uc2e4\\uc9c8 \\uad6d\\ub0b4\\ucd1d\\uc0dd\\uc0b0(GDP) \\uc131\\uc7a5\\ub960\\uc740 2024\\ub144 0.6%, 2025\\ub144 1.1%\\ub97c \\uae30\\ub85d\\ud560 \\uac83\\uc73c\\ub85c \\ub0b4\\ub2e4\\ubd24\\ub2e4.\"\n        ],\n        \"semantic_type\": \"\",\n        \"description\": \"\"\n      }\n    },\n    {\n      \"column\": \"date\",\n      \"properties\": {\n        \"dtype\": \"date\",\n        \"min\": \"2024-10-30\",\n        \"max\": \"2024-10-31\",\n        \"num_unique_values\": 2,\n        \"samples\": [\n          \"2024-10-30\",\n          \"2024-10-31\"\n        ],\n        \"semantic_type\": \"\",\n        \"description\": \"\"\n      }\n    }\n  ]\n}"
            }
          },
          "metadata": {},
          "execution_count": 14
        }
      ]
    },
    {
      "cell_type": "code",
      "source": [
        "news_df.tail()"
      ],
      "metadata": {
        "colab": {
          "base_uri": "https://localhost:8080/",
          "height": 362
        },
        "id": "MTINU80fSUVL",
        "outputId": "6faf9d17-5ee5-497f-dcb7-81121750e716"
      },
      "execution_count": 15,
      "outputs": [
        {
          "output_type": "execute_result",
          "data": {
            "text/plain": [
              "                                           기사제목  \\\n",
              "35                     을지로 유안타증권 빌딩 5920억 PF 성공   \n",
              "36  강남 르메르디앙 개발, 내년 하반기 '첫삽'…대출 9500억, 내년 6월 만기   \n",
              "37            영풍·MBK \"고려아연 유증 저지 위한 모든 법적수단 강구\"   \n",
              "38          \"미장은 장기투자용, 국장은 단타용\"…MZ들은 국장을 왜 떠나나   \n",
              "39                   진흙탕 싸움된 고려아연 사태 … 금감원 칼 뺐다   \n",
              "\n",
              "                                                본문url  \\\n",
              "35  https://n.news.naver.com/mnews/article/014/000...   \n",
              "36  https://n.news.naver.com/mnews/article/018/000...   \n",
              "37  https://n.news.naver.com/mnews/article/015/000...   \n",
              "38  https://n.news.naver.com/mnews/article/421/000...   \n",
              "39  https://n.news.naver.com/mnews/article/009/000...   \n",
              "\n",
              "                                                 기사본문        date  \n",
              "35  캡스톤운용, 2022년 인수 후 쾌거 \\n\\n\\n\\n유안타증권 본사 전경 유안타증권...  2024-10-30  \n",
              "36  웰스어드바이저스·현대건설·마스턴운용·메리츠 '컨소''창의·혁신디자인' 시범사업지…서...  2024-10-30  \n",
              "37  김광일 MBK 파트너스 부회장(가운데).  사진=뉴스1최윤범 고려아연 회장 측이 3...  2024-10-30  \n",
              "38  [NIF2024]MZ토론회…국장은 불확실·불안정, 미장은 성장성 주목 국장 대한 애...  2024-10-30  \n",
              "39  금감원, 고려아연 유증 제동시세조종 정황도 포착한 당국불공정행위 여부 고강도 조사주...  2024-10-30  "
            ],
            "text/html": [
              "\n",
              "  <div id=\"df-5b787c09-ccbd-4d61-a029-9c4b83ff82c1\" class=\"colab-df-container\">\n",
              "    <div>\n",
              "<style scoped>\n",
              "    .dataframe tbody tr th:only-of-type {\n",
              "        vertical-align: middle;\n",
              "    }\n",
              "\n",
              "    .dataframe tbody tr th {\n",
              "        vertical-align: top;\n",
              "    }\n",
              "\n",
              "    .dataframe thead th {\n",
              "        text-align: right;\n",
              "    }\n",
              "</style>\n",
              "<table border=\"1\" class=\"dataframe\">\n",
              "  <thead>\n",
              "    <tr style=\"text-align: right;\">\n",
              "      <th></th>\n",
              "      <th>기사제목</th>\n",
              "      <th>본문url</th>\n",
              "      <th>기사본문</th>\n",
              "      <th>date</th>\n",
              "    </tr>\n",
              "  </thead>\n",
              "  <tbody>\n",
              "    <tr>\n",
              "      <th>35</th>\n",
              "      <td>을지로 유안타증권 빌딩 5920억 PF 성공</td>\n",
              "      <td>https://n.news.naver.com/mnews/article/014/000...</td>\n",
              "      <td>캡스톤운용, 2022년 인수 후 쾌거 \\n\\n\\n\\n유안타증권 본사 전경 유안타증권...</td>\n",
              "      <td>2024-10-30</td>\n",
              "    </tr>\n",
              "    <tr>\n",
              "      <th>36</th>\n",
              "      <td>강남 르메르디앙 개발, 내년 하반기 '첫삽'…대출 9500억, 내년 6월 만기</td>\n",
              "      <td>https://n.news.naver.com/mnews/article/018/000...</td>\n",
              "      <td>웰스어드바이저스·현대건설·마스턴운용·메리츠 '컨소''창의·혁신디자인' 시범사업지…서...</td>\n",
              "      <td>2024-10-30</td>\n",
              "    </tr>\n",
              "    <tr>\n",
              "      <th>37</th>\n",
              "      <td>영풍·MBK \"고려아연 유증 저지 위한 모든 법적수단 강구\"</td>\n",
              "      <td>https://n.news.naver.com/mnews/article/015/000...</td>\n",
              "      <td>김광일 MBK 파트너스 부회장(가운데).  사진=뉴스1최윤범 고려아연 회장 측이 3...</td>\n",
              "      <td>2024-10-30</td>\n",
              "    </tr>\n",
              "    <tr>\n",
              "      <th>38</th>\n",
              "      <td>\"미장은 장기투자용, 국장은 단타용\"…MZ들은 국장을 왜 떠나나</td>\n",
              "      <td>https://n.news.naver.com/mnews/article/421/000...</td>\n",
              "      <td>[NIF2024]MZ토론회…국장은 불확실·불안정, 미장은 성장성 주목 국장 대한 애...</td>\n",
              "      <td>2024-10-30</td>\n",
              "    </tr>\n",
              "    <tr>\n",
              "      <th>39</th>\n",
              "      <td>진흙탕 싸움된 고려아연 사태 … 금감원 칼 뺐다</td>\n",
              "      <td>https://n.news.naver.com/mnews/article/009/000...</td>\n",
              "      <td>금감원, 고려아연 유증 제동시세조종 정황도 포착한 당국불공정행위 여부 고강도 조사주...</td>\n",
              "      <td>2024-10-30</td>\n",
              "    </tr>\n",
              "  </tbody>\n",
              "</table>\n",
              "</div>\n",
              "    <div class=\"colab-df-buttons\">\n",
              "\n",
              "  <div class=\"colab-df-container\">\n",
              "    <button class=\"colab-df-convert\" onclick=\"convertToInteractive('df-5b787c09-ccbd-4d61-a029-9c4b83ff82c1')\"\n",
              "            title=\"Convert this dataframe to an interactive table.\"\n",
              "            style=\"display:none;\">\n",
              "\n",
              "  <svg xmlns=\"http://www.w3.org/2000/svg\" height=\"24px\" viewBox=\"0 -960 960 960\">\n",
              "    <path d=\"M120-120v-720h720v720H120Zm60-500h600v-160H180v160Zm220 220h160v-160H400v160Zm0 220h160v-160H400v160ZM180-400h160v-160H180v160Zm440 0h160v-160H620v160ZM180-180h160v-160H180v160Zm440 0h160v-160H620v160Z\"/>\n",
              "  </svg>\n",
              "    </button>\n",
              "\n",
              "  <style>\n",
              "    .colab-df-container {\n",
              "      display:flex;\n",
              "      gap: 12px;\n",
              "    }\n",
              "\n",
              "    .colab-df-convert {\n",
              "      background-color: #E8F0FE;\n",
              "      border: none;\n",
              "      border-radius: 50%;\n",
              "      cursor: pointer;\n",
              "      display: none;\n",
              "      fill: #1967D2;\n",
              "      height: 32px;\n",
              "      padding: 0 0 0 0;\n",
              "      width: 32px;\n",
              "    }\n",
              "\n",
              "    .colab-df-convert:hover {\n",
              "      background-color: #E2EBFA;\n",
              "      box-shadow: 0px 1px 2px rgba(60, 64, 67, 0.3), 0px 1px 3px 1px rgba(60, 64, 67, 0.15);\n",
              "      fill: #174EA6;\n",
              "    }\n",
              "\n",
              "    .colab-df-buttons div {\n",
              "      margin-bottom: 4px;\n",
              "    }\n",
              "\n",
              "    [theme=dark] .colab-df-convert {\n",
              "      background-color: #3B4455;\n",
              "      fill: #D2E3FC;\n",
              "    }\n",
              "\n",
              "    [theme=dark] .colab-df-convert:hover {\n",
              "      background-color: #434B5C;\n",
              "      box-shadow: 0px 1px 3px 1px rgba(0, 0, 0, 0.15);\n",
              "      filter: drop-shadow(0px 1px 2px rgba(0, 0, 0, 0.3));\n",
              "      fill: #FFFFFF;\n",
              "    }\n",
              "  </style>\n",
              "\n",
              "    <script>\n",
              "      const buttonEl =\n",
              "        document.querySelector('#df-5b787c09-ccbd-4d61-a029-9c4b83ff82c1 button.colab-df-convert');\n",
              "      buttonEl.style.display =\n",
              "        google.colab.kernel.accessAllowed ? 'block' : 'none';\n",
              "\n",
              "      async function convertToInteractive(key) {\n",
              "        const element = document.querySelector('#df-5b787c09-ccbd-4d61-a029-9c4b83ff82c1');\n",
              "        const dataTable =\n",
              "          await google.colab.kernel.invokeFunction('convertToInteractive',\n",
              "                                                    [key], {});\n",
              "        if (!dataTable) return;\n",
              "\n",
              "        const docLinkHtml = 'Like what you see? Visit the ' +\n",
              "          '<a target=\"_blank\" href=https://colab.research.google.com/notebooks/data_table.ipynb>data table notebook</a>'\n",
              "          + ' to learn more about interactive tables.';\n",
              "        element.innerHTML = '';\n",
              "        dataTable['output_type'] = 'display_data';\n",
              "        await google.colab.output.renderOutput(dataTable, element);\n",
              "        const docLink = document.createElement('div');\n",
              "        docLink.innerHTML = docLinkHtml;\n",
              "        element.appendChild(docLink);\n",
              "      }\n",
              "    </script>\n",
              "  </div>\n",
              "\n",
              "\n",
              "<div id=\"df-890c3e78-958c-441c-aec3-b3954bdc7593\">\n",
              "  <button class=\"colab-df-quickchart\" onclick=\"quickchart('df-890c3e78-958c-441c-aec3-b3954bdc7593')\"\n",
              "            title=\"Suggest charts\"\n",
              "            style=\"display:none;\">\n",
              "\n",
              "<svg xmlns=\"http://www.w3.org/2000/svg\" height=\"24px\"viewBox=\"0 0 24 24\"\n",
              "     width=\"24px\">\n",
              "    <g>\n",
              "        <path d=\"M19 3H5c-1.1 0-2 .9-2 2v14c0 1.1.9 2 2 2h14c1.1 0 2-.9 2-2V5c0-1.1-.9-2-2-2zM9 17H7v-7h2v7zm4 0h-2V7h2v10zm4 0h-2v-4h2v4z\"/>\n",
              "    </g>\n",
              "</svg>\n",
              "  </button>\n",
              "\n",
              "<style>\n",
              "  .colab-df-quickchart {\n",
              "      --bg-color: #E8F0FE;\n",
              "      --fill-color: #1967D2;\n",
              "      --hover-bg-color: #E2EBFA;\n",
              "      --hover-fill-color: #174EA6;\n",
              "      --disabled-fill-color: #AAA;\n",
              "      --disabled-bg-color: #DDD;\n",
              "  }\n",
              "\n",
              "  [theme=dark] .colab-df-quickchart {\n",
              "      --bg-color: #3B4455;\n",
              "      --fill-color: #D2E3FC;\n",
              "      --hover-bg-color: #434B5C;\n",
              "      --hover-fill-color: #FFFFFF;\n",
              "      --disabled-bg-color: #3B4455;\n",
              "      --disabled-fill-color: #666;\n",
              "  }\n",
              "\n",
              "  .colab-df-quickchart {\n",
              "    background-color: var(--bg-color);\n",
              "    border: none;\n",
              "    border-radius: 50%;\n",
              "    cursor: pointer;\n",
              "    display: none;\n",
              "    fill: var(--fill-color);\n",
              "    height: 32px;\n",
              "    padding: 0;\n",
              "    width: 32px;\n",
              "  }\n",
              "\n",
              "  .colab-df-quickchart:hover {\n",
              "    background-color: var(--hover-bg-color);\n",
              "    box-shadow: 0 1px 2px rgba(60, 64, 67, 0.3), 0 1px 3px 1px rgba(60, 64, 67, 0.15);\n",
              "    fill: var(--button-hover-fill-color);\n",
              "  }\n",
              "\n",
              "  .colab-df-quickchart-complete:disabled,\n",
              "  .colab-df-quickchart-complete:disabled:hover {\n",
              "    background-color: var(--disabled-bg-color);\n",
              "    fill: var(--disabled-fill-color);\n",
              "    box-shadow: none;\n",
              "  }\n",
              "\n",
              "  .colab-df-spinner {\n",
              "    border: 2px solid var(--fill-color);\n",
              "    border-color: transparent;\n",
              "    border-bottom-color: var(--fill-color);\n",
              "    animation:\n",
              "      spin 1s steps(1) infinite;\n",
              "  }\n",
              "\n",
              "  @keyframes spin {\n",
              "    0% {\n",
              "      border-color: transparent;\n",
              "      border-bottom-color: var(--fill-color);\n",
              "      border-left-color: var(--fill-color);\n",
              "    }\n",
              "    20% {\n",
              "      border-color: transparent;\n",
              "      border-left-color: var(--fill-color);\n",
              "      border-top-color: var(--fill-color);\n",
              "    }\n",
              "    30% {\n",
              "      border-color: transparent;\n",
              "      border-left-color: var(--fill-color);\n",
              "      border-top-color: var(--fill-color);\n",
              "      border-right-color: var(--fill-color);\n",
              "    }\n",
              "    40% {\n",
              "      border-color: transparent;\n",
              "      border-right-color: var(--fill-color);\n",
              "      border-top-color: var(--fill-color);\n",
              "    }\n",
              "    60% {\n",
              "      border-color: transparent;\n",
              "      border-right-color: var(--fill-color);\n",
              "    }\n",
              "    80% {\n",
              "      border-color: transparent;\n",
              "      border-right-color: var(--fill-color);\n",
              "      border-bottom-color: var(--fill-color);\n",
              "    }\n",
              "    90% {\n",
              "      border-color: transparent;\n",
              "      border-bottom-color: var(--fill-color);\n",
              "    }\n",
              "  }\n",
              "</style>\n",
              "\n",
              "  <script>\n",
              "    async function quickchart(key) {\n",
              "      const quickchartButtonEl =\n",
              "        document.querySelector('#' + key + ' button');\n",
              "      quickchartButtonEl.disabled = true;  // To prevent multiple clicks.\n",
              "      quickchartButtonEl.classList.add('colab-df-spinner');\n",
              "      try {\n",
              "        const charts = await google.colab.kernel.invokeFunction(\n",
              "            'suggestCharts', [key], {});\n",
              "      } catch (error) {\n",
              "        console.error('Error during call to suggestCharts:', error);\n",
              "      }\n",
              "      quickchartButtonEl.classList.remove('colab-df-spinner');\n",
              "      quickchartButtonEl.classList.add('colab-df-quickchart-complete');\n",
              "    }\n",
              "    (() => {\n",
              "      let quickchartButtonEl =\n",
              "        document.querySelector('#df-890c3e78-958c-441c-aec3-b3954bdc7593 button');\n",
              "      quickchartButtonEl.style.display =\n",
              "        google.colab.kernel.accessAllowed ? 'block' : 'none';\n",
              "    })();\n",
              "  </script>\n",
              "</div>\n",
              "\n",
              "    </div>\n",
              "  </div>\n"
            ],
            "application/vnd.google.colaboratory.intrinsic+json": {
              "type": "dataframe",
              "repr_error": "0"
            }
          },
          "metadata": {},
          "execution_count": 15
        }
      ]
    },
    {
      "cell_type": "markdown",
      "source": [
        "#  CSV 파일로 저장"
      ],
      "metadata": {
        "id": "dhFe3C6NovPw"
      }
    },
    {
      "cell_type": "code",
      "source": [
        "news_df.to_csv('article.csv')\n",
        "print('CSV 파일 저장 완료')"
      ],
      "metadata": {
        "id": "-DgMzvcqoxUA",
        "colab": {
          "base_uri": "https://localhost:8080/"
        },
        "outputId": "009941f0-bf35-4b73-ff93-6ac8290f3784"
      },
      "execution_count": 20,
      "outputs": [
        {
          "output_type": "stream",
          "name": "stdout",
          "text": [
            "CSV 파일 저장 완료\n"
          ]
        }
      ]
    }
  ]
}