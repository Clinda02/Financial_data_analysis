{
  "nbformat": 4,
  "nbformat_minor": 0,
  "metadata": {
    "colab": {
      "provenance": [],
      "authorship_tag": "ABX9TyO4g/kz5NMZjALAZrI/G/r7",
      "include_colab_link": true
    },
    "kernelspec": {
      "name": "python3",
      "display_name": "Python 3"
    },
    "language_info": {
      "name": "python"
    }
  },
  "cells": [
    {
      "cell_type": "markdown",
      "metadata": {
        "id": "view-in-github",
        "colab_type": "text"
      },
      "source": [
        "<a href=\"https://colab.research.google.com/github/Clinda02/financial_data_analysis/blob/main/Finance_news_scarp.ipynb\" target=\"_parent\"><img src=\"https://colab.research.google.com/assets/colab-badge.svg\" alt=\"Open In Colab\"/></a>"
      ]
    },
    {
      "cell_type": "markdown",
      "source": [
        "# 개요\n",
        "* 네이버 증권의 `뉴스` 탭의 최신 10일치 기사를 수집하여 데이터 프레임으로 생성, 데이터프레임을 `article.csv` 로 저장\n",
        "* 사이트 주소 : https://finance.naver.com/news/mainnews.naver?date=2024-10-25\n",
        "\n",
        "\n",
        "-----\n",
        "\n",
        "**네이버 증권 뉴스 탭**\n",
        "* 날짜별로 페이지가 구분되어 있고, 날짜를 변경할 경우, URL의 date의 속성값 변경\n",
        "  * `https://finance.naver.com/news/mainnews.naver?date=2024-10-25`\n",
        "\n",
        "* 각 날짜에는 페이지네이션으로 페이지가 변경됨\n",
        "  * `https://financenaver.com/news/mainnews.naver?date=2024-10-25&page=3`\n",
        "* 페이지네이션은 고려하지 않고, 첫 페이지에 있는 데이터만 수집\n",
        "\n",
        "**데이터 프레임 구조**\n",
        "* `기사제목, 본문URL, 기사본문, 날짜` 4개 칼럼으로 구성"
      ],
      "metadata": {
        "id": "PhOqk0jBmzY9"
      }
    },
    {
      "cell_type": "markdown",
      "source": [
        "# 신문기사 HTML 불러오기"
      ],
      "metadata": {
        "id": "8eckhCt7onWO"
      }
    },
    {
      "cell_type": "code",
      "execution_count": 1,
      "metadata": {
        "id": "4mbhX-iomuuQ"
      },
      "outputs": [],
      "source": [
        "from bs4 import BeautifulSoup\n",
        "import requests\n",
        "import pandas as pd\n",
        "\n",
        "# 뉴스 스크랩\n",
        "url = \"https://finance.naver.com/news/mainnews.naver?date=2024-10-31\"\n",
        "response = requests.get(url)\n",
        "\n",
        "soup = BeautifulSoup(response.text, 'lxml')"
      ]
    },
    {
      "cell_type": "markdown",
      "source": [
        "- 데이터 프레임 구조\n",
        "\n",
        "  - **기사제목**:  `<dd class=\"articleSubject\">`안에 텍스트\n",
        "  - **본문 URL**: `<dd class=\"articleSubject\">` 안에 `<a>` 태그\n",
        "  - **기사 본문**: `<div id=\"newsct_article\" class=\"newsct_article _article_body\">`\n",
        "  - **날짜**: URL에서 가져오기"
      ],
      "metadata": {
        "id": "ujf7ayg6p5Th"
      }
    },
    {
      "cell_type": "code",
      "source": [
        "# 기사제목 리스트 가져오기\n",
        "titles = soup.find_all('dd', {'class':'articleSubject'})\n",
        "titles[0]"
      ],
      "metadata": {
        "colab": {
          "base_uri": "https://localhost:8080/"
        },
        "id": "T88mWx0Prvns",
        "outputId": "1cbb762e-242b-4200-f835-199134f31aea"
      },
      "execution_count": 2,
      "outputs": [
        {
          "output_type": "execute_result",
          "data": {
            "text/plain": [
              "<dd class=\"articleSubject\">\n",
              "<a href=\"/news/news_read.naver?article_id=0005493204&amp;office_id=277&amp;mode=mainnews&amp;type=&amp;date=2024-10-31&amp;page=1\">코스피, 외인 '팔자'에 2550선까지 밀려…코스닥은 상승</a>\n",
              "</dd>"
            ]
          },
          "metadata": {},
          "execution_count": 2
        }
      ]
    },
    {
      "cell_type": "code",
      "source": [
        "titles[0].text.strip()"
      ],
      "metadata": {
        "colab": {
          "base_uri": "https://localhost:8080/",
          "height": 35
        },
        "id": "OQnBQcDxrvkd",
        "outputId": "40067838-b8e3-464a-b220-01069e69c880"
      },
      "execution_count": 3,
      "outputs": [
        {
          "output_type": "execute_result",
          "data": {
            "text/plain": [
              "\"코스피, 외인 '팔자'에 2550선까지 밀려…코스닥은 상승\""
            ],
            "application/vnd.google.colaboratory.intrinsic+json": {
              "type": "string"
            }
          },
          "metadata": {},
          "execution_count": 3
        }
      ]
    },
    {
      "cell_type": "markdown",
      "source": [
        "# 상세 뉴스 본문 읽어오기"
      ],
      "metadata": {
        "id": "bh8n617or9yN"
      }
    },
    {
      "cell_type": "markdown",
      "source": [
        "## 상세 뉴스 URL 읽어오기"
      ],
      "metadata": {
        "id": "9qNZEmTVsDIs"
      }
    },
    {
      "cell_type": "code",
      "source": [
        "# 첫번째 기사의 상세페이지 URL\n",
        "titles[0].find('a').get('href')"
      ],
      "metadata": {
        "colab": {
          "base_uri": "https://localhost:8080/",
          "height": 35
        },
        "id": "0yjk9qbMrvhG",
        "outputId": "5440251f-1e4d-46ca-eb24-a1a780552a98"
      },
      "execution_count": 4,
      "outputs": [
        {
          "output_type": "execute_result",
          "data": {
            "text/plain": [
              "'/news/news_read.naver?article_id=0005493204&office_id=277&mode=mainnews&type=&date=2024-10-31&page=1'"
            ],
            "application/vnd.google.colaboratory.intrinsic+json": {
              "type": "string"
            }
          },
          "metadata": {},
          "execution_count": 4
        }
      ]
    },
    {
      "cell_type": "code",
      "source": [
        "news_url = 'https://finance.naver.com' + titles[0].find('a').get('href')\n",
        "news_url"
      ],
      "metadata": {
        "colab": {
          "base_uri": "https://localhost:8080/",
          "height": 54
        },
        "id": "_b91PvlzrvbW",
        "outputId": "96600281-aef1-4656-83e6-b248117d0fda"
      },
      "execution_count": 5,
      "outputs": [
        {
          "output_type": "execute_result",
          "data": {
            "text/plain": [
              "'https://finance.naver.com/news/news_read.naver?article_id=0005493204&office_id=277&mode=mainnews&type=&date=2024-10-31&page=1'"
            ],
            "application/vnd.google.colaboratory.intrinsic+json": {
              "type": "string"
            }
          },
          "metadata": {},
          "execution_count": 5
        }
      ]
    },
    {
      "cell_type": "code",
      "source": [
        "# 상세 뉴스 페이지\n",
        "news_response = requests.get(news_url)\n",
        "news_soup = BeautifulSoup(news_response.text, 'lxml')\n",
        "news_soup"
      ],
      "metadata": {
        "colab": {
          "base_uri": "https://localhost:8080/"
        },
        "id": "qJs6I_L-rvWy",
        "outputId": "e6a386ff-903d-49ff-b901-18183011fea9"
      },
      "execution_count": 6,
      "outputs": [
        {
          "output_type": "execute_result",
          "data": {
            "text/plain": [
              "<html><head><script>top.location.href='https://n.news.naver.com/mnews/article/277/0005493204';</script>\n",
              "</head></html>"
            ]
          },
          "metadata": {},
          "execution_count": 6
        }
      ]
    },
    {
      "cell_type": "markdown",
      "source": [
        "redirect 주소를 반환하고 있으므로, redirecet 주소를 사용하여 다시 상세 뉴스 페이지에 접근"
      ],
      "metadata": {
        "id": "GPmkIzOj9ImR"
      }
    },
    {
      "cell_type": "code",
      "source": [
        "news_url2 = news_soup.find('script').text.split(\"'\")[1]"
      ],
      "metadata": {
        "id": "UtBmzPO99JVI"
      },
      "execution_count": 7,
      "outputs": []
    },
    {
      "cell_type": "markdown",
      "source": [
        "## 상세 뉴스 페이지 읽어오기"
      ],
      "metadata": {
        "id": "RqLbow-S9oZI"
      }
    },
    {
      "cell_type": "code",
      "source": [
        "# 상세 뉴스페이지 재호출\n",
        "news_response2 = requests.get(news_url2)\n",
        "\n",
        "news_soup = BeautifulSoup(news_response2.text, 'lxml')"
      ],
      "metadata": {
        "collapsed": true,
        "id": "paLAZhcS9s1Q"
      },
      "execution_count": 8,
      "outputs": []
    },
    {
      "cell_type": "markdown",
      "source": [
        "## 상세 뉴스페이지 본문 파싱하기"
      ],
      "metadata": {
        "id": "KDdnDxab_Wnl"
      }
    },
    {
      "cell_type": "code",
      "source": [
        "# 뉴스 본문\n",
        "# 기사 본문: <div id=\"newsct_article\" class=\"newsct_article _article_body\">\n",
        "news_soup.find('div',{'class', 'newsct_article _article_body'}).text.strip()"
      ],
      "metadata": {
        "colab": {
          "base_uri": "https://localhost:8080/",
          "height": 256
        },
        "id": "S1SPBBkOrvTH",
        "outputId": "eca12c43-8434-4f41-d26d-0bd4a308139d"
      },
      "execution_count": 9,
      "outputs": [
        {
          "output_type": "execute_result",
          "data": {
            "text/plain": [
              "'코스피가 외국인의 매도세에 하락하며 2550선까지 밀렸다. 반면 코스닥은 강보합 마감했다.\\n\\n\\n\\n[이미지출처=연합뉴스]코스피는 31일 전거래일 대비 37.64포인트(1.45%) 내린 2556.15에 마감했다.투자자별로는 개인과 기관이 각각 5642억원, 3300억원을 순매수했다. 반면 외국인은 8630억원을 순매도했다.업종별로는 섬유·의복이 2.80% 뛰었다. 또 음식료품, 의료정밀 등이 1% 이상 올랐다. 반면 유통업이 3.04% 내렸다. 이 외 철강및금속, 기계, 의약품, 금융업 등이 2% 이상 하락했다.시가총액 상위종목 중 삼성전자는 전거래일 대비 100원(0.17%) 오른 5만9200원에 거래를 마감했다. 반면 SK하이닉스는 4.46% 내렸다. 또 신한지주가 5.87% 급락했다. 이 외 삼성바이오로직스, 현대차, 기아, 셀트리온 등은 2% 이상 하락했다.이날 코스피에서는 미래산업이 상한가를 기록하며 473개 종목이 올랐으며 하한가 없이 405개 종목이 밀렸다. 62개 종목은 보합이었다.코스닥은 전거래일 대비 4.87포인트(0.66%) 오른 743.06에 거래를 마감했다.투자자별로는 외국인이 1493억원을 순매수했다. 반면 개인과 기관이 각각 1370억원과 41억원을 순매도했다.업종별로는 비금속, 화학, 운송, 제약 등이 1% 이상 올랐다. 반면 금융이 1.26% 하락했다. 이 외 종이·목재, 유통, 기타서비스, 의료·정밀기기 등이 약보합 마감했다.시가총액 상위종목에서 알테오젠은 전거래일 대비 2500원(0.66%) 내린 37만6500원에 거래를 마감했다. 에코프로는 1.74% 내렸다. 반면 삼천당제약이 6.20% 급등했다. HPSP는 4.77% 뛰었다. 이 외 리가켐바이오, 엔켐, 셀트리온제약 등은 강보합 마감했다.코스닥에서는 비투엔이 상한가를 기록하며 882개 종목이 상승했다. 반면 하한가 없이 678개 종목이 밀렸으며 122개 종목은 보합으로 마감했다.'"
            ],
            "application/vnd.google.colaboratory.intrinsic+json": {
              "type": "string"
            }
          },
          "metadata": {},
          "execution_count": 9
        }
      ]
    },
    {
      "cell_type": "markdown",
      "source": [
        "# 반복문 사용하여 함수로 생성하기"
      ],
      "metadata": {
        "id": "al0c2DPR_gQ1"
      }
    },
    {
      "cell_type": "code",
      "source": [
        "from bs4 import BeautifulSoup\n",
        "import requests\n",
        "import pandas as pd\n",
        "import datetime\n",
        "import time"
      ],
      "metadata": {
        "id": "-fgB5Z7BX7BB"
      },
      "execution_count": 10,
      "outputs": []
    },
    {
      "cell_type": "code",
      "source": [
        " def get_news_items(html):\n",
        "\n",
        "  # 기사 리스트 가져오기\n",
        "  titles = html.find_all('dd', {'class' :'articleSubject'})\n",
        "\n",
        "  title_list = []\n",
        "  url_list =[]\n",
        "  content_list = []\n",
        "\n",
        "  for t in titles:\n",
        "    # 뉴스 기사 제목\n",
        "    title = t.text.strip()\n",
        "    # print(f\"제목 : {title}\")\n",
        "\n",
        "    # 뉴스 기사의 상세페이지 url\n",
        "    news_url = 'https://finance.naver.com' + t.find('a').get('href')\n",
        "    # print(f\"url : {news_url}\")\n",
        "\n",
        "    # 상세페이지 request\n",
        "    news_response = requests.get(news_url)\n",
        "    news_soup = BeautifulSoup(news_response.text, 'lxml')\n",
        "\n",
        "    # 리다이렉트 주소 파싱\n",
        "    news_url2 = news_soup.find('script').text.split(\"'\")[1]\n",
        "\n",
        "    # 상세페이지 request\n",
        "    news_response2 = requests.get(news_url2)\n",
        "    news_soup = BeautifulSoup(news_response2.text, 'lxml')\n",
        "\n",
        "    # 뉴스 본문\n",
        "    content = news_soup.find('div', {'class':'newsct_article _article_body'}).text.strip()\n",
        "    # print(f\"본문 : {content}\")\n",
        "\n",
        "    # 리스트 값 저장\n",
        "    title_list.append(title)\n",
        "    url_list.append(news_url2)\n",
        "    content_list.append(content)\n",
        "\n",
        "  # 데이터프레임 저장\n",
        "  df = pd.DataFrame({\n",
        "        '기사제목' : title_list,\n",
        "        '본문url' : url_list,\n",
        "        '기사본문' : content_list\n",
        "    })\n",
        "  return df\n",
        ""
      ],
      "metadata": {
        "id": "i1OOnSdo_Ytt"
      },
      "execution_count": 11,
      "outputs": []
    },
    {
      "cell_type": "code",
      "source": [
        "news_df = pd.DataFrame()\n",
        "\n",
        "for n in range(2):\n",
        "  # 최근 n일치 데이터 지정\n",
        "  date = datetime.date.today() - datetime.timedelta(days = n)\n",
        "  url = f\"https://finance.naver.com/news/mainnews.naver?date={date}\"\n",
        "  response = requests.get(url)\n",
        "  soup = BeautifulSoup(response.text, 'lxml')\n",
        "  time.sleep(1)\n",
        "\n",
        "  # 해당일 신문기사 스크랩 데이터프레임 반환\n",
        "  temp_df = get_news_items(soup)\n",
        "  temp_df['date']= date\n",
        "  news_df = pd.concat([news_df, temp_df], ignore_index =True).copy()"
      ],
      "metadata": {
        "id": "gZUnX9SBEUC3"
      },
      "execution_count": 12,
      "outputs": []
    },
    {
      "cell_type": "code",
      "source": [
        "news_df.info()"
      ],
      "metadata": {
        "colab": {
          "base_uri": "https://localhost:8080/"
        },
        "id": "Pis5lVmKTqMG",
        "outputId": "8d60e6da-389f-4779-e918-b61eeed8cf15"
      },
      "execution_count": 13,
      "outputs": [
        {
          "output_type": "stream",
          "name": "stdout",
          "text": [
            "<class 'pandas.core.frame.DataFrame'>\n",
            "RangeIndex: 40 entries, 0 to 39\n",
            "Data columns (total 4 columns):\n",
            " #   Column  Non-Null Count  Dtype \n",
            "---  ------  --------------  ----- \n",
            " 0   기사제목    40 non-null     object\n",
            " 1   본문url   40 non-null     object\n",
            " 2   기사본문    40 non-null     object\n",
            " 3   date    40 non-null     object\n",
            "dtypes: object(4)\n",
            "memory usage: 1.4+ KB\n"
          ]
        }
      ]
    },
    {
      "cell_type": "code",
      "source": [
        "news_df.head()"
      ],
      "metadata": {
        "colab": {
          "base_uri": "https://localhost:8080/",
          "height": 397
        },
        "id": "TsuaZG_OrvOf",
        "outputId": "24f931d9-6bbd-4726-ecf1-c189fa09776c"
      },
      "execution_count": 14,
      "outputs": [
        {
          "output_type": "execute_result",
          "data": {
            "text/plain": [
              "                                       기사제목  \\\n",
              "0          코스피, 외인 '팔자'에 2550선까지 밀려…코스닥은 상승   \n",
              "1            6만원대 터치했지만…삼성전자, 뒷심부족에 '찔끔' 상승   \n",
              "2  정말 '왕'이었나? 이정재… 래몽래인 '경영권 분쟁' 완승, 사명도 변경   \n",
              "3        삼전 HBM 기대감에도…\"6만전자 쉽지않네\" [장 안의 화제]   \n",
              "4         외국인 매수세에 740선 사수…반도체 소부장↑[코스닥 마감]   \n",
              "\n",
              "                                               본문url  \\\n",
              "0  https://n.news.naver.com/mnews/article/277/000...   \n",
              "1  https://n.news.naver.com/mnews/article/018/000...   \n",
              "2  https://n.news.naver.com/mnews/article/417/000...   \n",
              "3  https://n.news.naver.com/mnews/article/215/000...   \n",
              "4  https://n.news.naver.com/mnews/article/018/000...   \n",
              "\n",
              "                                                기사본문        date  \n",
              "0  코스피가 외국인의 매도세에 하락하며 2550선까지 밀렸다. 반면 코스닥은 강보합 마...  2024-10-31  \n",
              "1  [특징주][이데일리 김인경 기자] 삼성전자(005930)가 31일 장 중 6만원을 ...  2024-10-31  \n",
              "2  이정재가 최대주주로 있는 아티스트유나이티드가 콘텐츠기업 래몽래인과의 경영권 갈등에서...  2024-10-31  \n",
              "3  ※ 한국경제TV 생방송 성공투자오후증시는 매일 오후 2시에 방영됩니다. 투자 판단은...  2024-10-31  \n",
              "4  외국인 ‘사자’ vs 개인·기관 ‘팔자’“실적, 이슈에 따른 종목 장세”업종별 혼조...  2024-10-31  "
            ],
            "text/html": [
              "\n",
              "  <div id=\"df-d9fcbb55-3b0e-4665-a024-96135ff1848b\" class=\"colab-df-container\">\n",
              "    <div>\n",
              "<style scoped>\n",
              "    .dataframe tbody tr th:only-of-type {\n",
              "        vertical-align: middle;\n",
              "    }\n",
              "\n",
              "    .dataframe tbody tr th {\n",
              "        vertical-align: top;\n",
              "    }\n",
              "\n",
              "    .dataframe thead th {\n",
              "        text-align: right;\n",
              "    }\n",
              "</style>\n",
              "<table border=\"1\" class=\"dataframe\">\n",
              "  <thead>\n",
              "    <tr style=\"text-align: right;\">\n",
              "      <th></th>\n",
              "      <th>기사제목</th>\n",
              "      <th>본문url</th>\n",
              "      <th>기사본문</th>\n",
              "      <th>date</th>\n",
              "    </tr>\n",
              "  </thead>\n",
              "  <tbody>\n",
              "    <tr>\n",
              "      <th>0</th>\n",
              "      <td>코스피, 외인 '팔자'에 2550선까지 밀려…코스닥은 상승</td>\n",
              "      <td>https://n.news.naver.com/mnews/article/277/000...</td>\n",
              "      <td>코스피가 외국인의 매도세에 하락하며 2550선까지 밀렸다. 반면 코스닥은 강보합 마...</td>\n",
              "      <td>2024-10-31</td>\n",
              "    </tr>\n",
              "    <tr>\n",
              "      <th>1</th>\n",
              "      <td>6만원대 터치했지만…삼성전자, 뒷심부족에 '찔끔' 상승</td>\n",
              "      <td>https://n.news.naver.com/mnews/article/018/000...</td>\n",
              "      <td>[특징주][이데일리 김인경 기자] 삼성전자(005930)가 31일 장 중 6만원을 ...</td>\n",
              "      <td>2024-10-31</td>\n",
              "    </tr>\n",
              "    <tr>\n",
              "      <th>2</th>\n",
              "      <td>정말 '왕'이었나? 이정재… 래몽래인 '경영권 분쟁' 완승, 사명도 변경</td>\n",
              "      <td>https://n.news.naver.com/mnews/article/417/000...</td>\n",
              "      <td>이정재가 최대주주로 있는 아티스트유나이티드가 콘텐츠기업 래몽래인과의 경영권 갈등에서...</td>\n",
              "      <td>2024-10-31</td>\n",
              "    </tr>\n",
              "    <tr>\n",
              "      <th>3</th>\n",
              "      <td>삼전 HBM 기대감에도…\"6만전자 쉽지않네\" [장 안의 화제]</td>\n",
              "      <td>https://n.news.naver.com/mnews/article/215/000...</td>\n",
              "      <td>※ 한국경제TV 생방송 성공투자오후증시는 매일 오후 2시에 방영됩니다. 투자 판단은...</td>\n",
              "      <td>2024-10-31</td>\n",
              "    </tr>\n",
              "    <tr>\n",
              "      <th>4</th>\n",
              "      <td>외국인 매수세에 740선 사수…반도체 소부장↑[코스닥 마감]</td>\n",
              "      <td>https://n.news.naver.com/mnews/article/018/000...</td>\n",
              "      <td>외국인 ‘사자’ vs 개인·기관 ‘팔자’“실적, 이슈에 따른 종목 장세”업종별 혼조...</td>\n",
              "      <td>2024-10-31</td>\n",
              "    </tr>\n",
              "  </tbody>\n",
              "</table>\n",
              "</div>\n",
              "    <div class=\"colab-df-buttons\">\n",
              "\n",
              "  <div class=\"colab-df-container\">\n",
              "    <button class=\"colab-df-convert\" onclick=\"convertToInteractive('df-d9fcbb55-3b0e-4665-a024-96135ff1848b')\"\n",
              "            title=\"Convert this dataframe to an interactive table.\"\n",
              "            style=\"display:none;\">\n",
              "\n",
              "  <svg xmlns=\"http://www.w3.org/2000/svg\" height=\"24px\" viewBox=\"0 -960 960 960\">\n",
              "    <path d=\"M120-120v-720h720v720H120Zm60-500h600v-160H180v160Zm220 220h160v-160H400v160Zm0 220h160v-160H400v160ZM180-400h160v-160H180v160Zm440 0h160v-160H620v160ZM180-180h160v-160H180v160Zm440 0h160v-160H620v160Z\"/>\n",
              "  </svg>\n",
              "    </button>\n",
              "\n",
              "  <style>\n",
              "    .colab-df-container {\n",
              "      display:flex;\n",
              "      gap: 12px;\n",
              "    }\n",
              "\n",
              "    .colab-df-convert {\n",
              "      background-color: #E8F0FE;\n",
              "      border: none;\n",
              "      border-radius: 50%;\n",
              "      cursor: pointer;\n",
              "      display: none;\n",
              "      fill: #1967D2;\n",
              "      height: 32px;\n",
              "      padding: 0 0 0 0;\n",
              "      width: 32px;\n",
              "    }\n",
              "\n",
              "    .colab-df-convert:hover {\n",
              "      background-color: #E2EBFA;\n",
              "      box-shadow: 0px 1px 2px rgba(60, 64, 67, 0.3), 0px 1px 3px 1px rgba(60, 64, 67, 0.15);\n",
              "      fill: #174EA6;\n",
              "    }\n",
              "\n",
              "    .colab-df-buttons div {\n",
              "      margin-bottom: 4px;\n",
              "    }\n",
              "\n",
              "    [theme=dark] .colab-df-convert {\n",
              "      background-color: #3B4455;\n",
              "      fill: #D2E3FC;\n",
              "    }\n",
              "\n",
              "    [theme=dark] .colab-df-convert:hover {\n",
              "      background-color: #434B5C;\n",
              "      box-shadow: 0px 1px 3px 1px rgba(0, 0, 0, 0.15);\n",
              "      filter: drop-shadow(0px 1px 2px rgba(0, 0, 0, 0.3));\n",
              "      fill: #FFFFFF;\n",
              "    }\n",
              "  </style>\n",
              "\n",
              "    <script>\n",
              "      const buttonEl =\n",
              "        document.querySelector('#df-d9fcbb55-3b0e-4665-a024-96135ff1848b button.colab-df-convert');\n",
              "      buttonEl.style.display =\n",
              "        google.colab.kernel.accessAllowed ? 'block' : 'none';\n",
              "\n",
              "      async function convertToInteractive(key) {\n",
              "        const element = document.querySelector('#df-d9fcbb55-3b0e-4665-a024-96135ff1848b');\n",
              "        const dataTable =\n",
              "          await google.colab.kernel.invokeFunction('convertToInteractive',\n",
              "                                                    [key], {});\n",
              "        if (!dataTable) return;\n",
              "\n",
              "        const docLinkHtml = 'Like what you see? Visit the ' +\n",
              "          '<a target=\"_blank\" href=https://colab.research.google.com/notebooks/data_table.ipynb>data table notebook</a>'\n",
              "          + ' to learn more about interactive tables.';\n",
              "        element.innerHTML = '';\n",
              "        dataTable['output_type'] = 'display_data';\n",
              "        await google.colab.output.renderOutput(dataTable, element);\n",
              "        const docLink = document.createElement('div');\n",
              "        docLink.innerHTML = docLinkHtml;\n",
              "        element.appendChild(docLink);\n",
              "      }\n",
              "    </script>\n",
              "  </div>\n",
              "\n",
              "\n",
              "<div id=\"df-c0c62f00-fe10-4942-aa99-a56fc9da84c2\">\n",
              "  <button class=\"colab-df-quickchart\" onclick=\"quickchart('df-c0c62f00-fe10-4942-aa99-a56fc9da84c2')\"\n",
              "            title=\"Suggest charts\"\n",
              "            style=\"display:none;\">\n",
              "\n",
              "<svg xmlns=\"http://www.w3.org/2000/svg\" height=\"24px\"viewBox=\"0 0 24 24\"\n",
              "     width=\"24px\">\n",
              "    <g>\n",
              "        <path d=\"M19 3H5c-1.1 0-2 .9-2 2v14c0 1.1.9 2 2 2h14c1.1 0 2-.9 2-2V5c0-1.1-.9-2-2-2zM9 17H7v-7h2v7zm4 0h-2V7h2v10zm4 0h-2v-4h2v4z\"/>\n",
              "    </g>\n",
              "</svg>\n",
              "  </button>\n",
              "\n",
              "<style>\n",
              "  .colab-df-quickchart {\n",
              "      --bg-color: #E8F0FE;\n",
              "      --fill-color: #1967D2;\n",
              "      --hover-bg-color: #E2EBFA;\n",
              "      --hover-fill-color: #174EA6;\n",
              "      --disabled-fill-color: #AAA;\n",
              "      --disabled-bg-color: #DDD;\n",
              "  }\n",
              "\n",
              "  [theme=dark] .colab-df-quickchart {\n",
              "      --bg-color: #3B4455;\n",
              "      --fill-color: #D2E3FC;\n",
              "      --hover-bg-color: #434B5C;\n",
              "      --hover-fill-color: #FFFFFF;\n",
              "      --disabled-bg-color: #3B4455;\n",
              "      --disabled-fill-color: #666;\n",
              "  }\n",
              "\n",
              "  .colab-df-quickchart {\n",
              "    background-color: var(--bg-color);\n",
              "    border: none;\n",
              "    border-radius: 50%;\n",
              "    cursor: pointer;\n",
              "    display: none;\n",
              "    fill: var(--fill-color);\n",
              "    height: 32px;\n",
              "    padding: 0;\n",
              "    width: 32px;\n",
              "  }\n",
              "\n",
              "  .colab-df-quickchart:hover {\n",
              "    background-color: var(--hover-bg-color);\n",
              "    box-shadow: 0 1px 2px rgba(60, 64, 67, 0.3), 0 1px 3px 1px rgba(60, 64, 67, 0.15);\n",
              "    fill: var(--button-hover-fill-color);\n",
              "  }\n",
              "\n",
              "  .colab-df-quickchart-complete:disabled,\n",
              "  .colab-df-quickchart-complete:disabled:hover {\n",
              "    background-color: var(--disabled-bg-color);\n",
              "    fill: var(--disabled-fill-color);\n",
              "    box-shadow: none;\n",
              "  }\n",
              "\n",
              "  .colab-df-spinner {\n",
              "    border: 2px solid var(--fill-color);\n",
              "    border-color: transparent;\n",
              "    border-bottom-color: var(--fill-color);\n",
              "    animation:\n",
              "      spin 1s steps(1) infinite;\n",
              "  }\n",
              "\n",
              "  @keyframes spin {\n",
              "    0% {\n",
              "      border-color: transparent;\n",
              "      border-bottom-color: var(--fill-color);\n",
              "      border-left-color: var(--fill-color);\n",
              "    }\n",
              "    20% {\n",
              "      border-color: transparent;\n",
              "      border-left-color: var(--fill-color);\n",
              "      border-top-color: var(--fill-color);\n",
              "    }\n",
              "    30% {\n",
              "      border-color: transparent;\n",
              "      border-left-color: var(--fill-color);\n",
              "      border-top-color: var(--fill-color);\n",
              "      border-right-color: var(--fill-color);\n",
              "    }\n",
              "    40% {\n",
              "      border-color: transparent;\n",
              "      border-right-color: var(--fill-color);\n",
              "      border-top-color: var(--fill-color);\n",
              "    }\n",
              "    60% {\n",
              "      border-color: transparent;\n",
              "      border-right-color: var(--fill-color);\n",
              "    }\n",
              "    80% {\n",
              "      border-color: transparent;\n",
              "      border-right-color: var(--fill-color);\n",
              "      border-bottom-color: var(--fill-color);\n",
              "    }\n",
              "    90% {\n",
              "      border-color: transparent;\n",
              "      border-bottom-color: var(--fill-color);\n",
              "    }\n",
              "  }\n",
              "</style>\n",
              "\n",
              "  <script>\n",
              "    async function quickchart(key) {\n",
              "      const quickchartButtonEl =\n",
              "        document.querySelector('#' + key + ' button');\n",
              "      quickchartButtonEl.disabled = true;  // To prevent multiple clicks.\n",
              "      quickchartButtonEl.classList.add('colab-df-spinner');\n",
              "      try {\n",
              "        const charts = await google.colab.kernel.invokeFunction(\n",
              "            'suggestCharts', [key], {});\n",
              "      } catch (error) {\n",
              "        console.error('Error during call to suggestCharts:', error);\n",
              "      }\n",
              "      quickchartButtonEl.classList.remove('colab-df-spinner');\n",
              "      quickchartButtonEl.classList.add('colab-df-quickchart-complete');\n",
              "    }\n",
              "    (() => {\n",
              "      let quickchartButtonEl =\n",
              "        document.querySelector('#df-c0c62f00-fe10-4942-aa99-a56fc9da84c2 button');\n",
              "      quickchartButtonEl.style.display =\n",
              "        google.colab.kernel.accessAllowed ? 'block' : 'none';\n",
              "    })();\n",
              "  </script>\n",
              "</div>\n",
              "\n",
              "    </div>\n",
              "  </div>\n"
            ],
            "application/vnd.google.colaboratory.intrinsic+json": {
              "type": "dataframe",
              "variable_name": "news_df",
              "summary": "{\n  \"name\": \"news_df\",\n  \"rows\": 40,\n  \"fields\": [\n    {\n      \"column\": \"\\uae30\\uc0ac\\uc81c\\ubaa9\",\n      \"properties\": {\n        \"dtype\": \"string\",\n        \"num_unique_values\": 40,\n        \"samples\": [\n          \"\\uc774\\uc218\\ud398\\ud0c0\\uc2dc\\uc2a4 \\uc720\\uc99d\\u8aaa\\uc5d0 \\uae09\\ub77d... \\ud55c\\ud22c \\u201c\\ud68c\\uc0ac\\uce21 \\uacf5\\uc2dd \\uc785\\uc7a5\\uc740 \\uc0ac\\uc2e4\\ubb34\\uadfc\\u201d\",\n          \"\\uc5d0\\uc2a4\\ucf10 \\u201c\\uae00\\ub85c\\ubc8c 1\\uc704 OLED \\uc18c\\uc7ac \\ud68c\\uc0ac\\ub85c \\ub3c4\\uc57d\\ud560 \\uac83\\u201d\",\n          \"\\u4e2d BYD, \\ubd84\\uae30 \\ub9e4\\ucd9c\\ub85c \\u7f8e \\ud14c\\uc2ac\\ub77c \\uccab \\ucd94\\uc6d4\"\n        ],\n        \"semantic_type\": \"\",\n        \"description\": \"\"\n      }\n    },\n    {\n      \"column\": \"\\ubcf8\\ubb38url\",\n      \"properties\": {\n        \"dtype\": \"string\",\n        \"num_unique_values\": 40,\n        \"samples\": [\n          \"https://n.news.naver.com/mnews/article/366/0001028555\",\n          \"https://n.news.naver.com/mnews/article/009/0005388667\",\n          \"https://n.news.naver.com/mnews/article/277/0005493170\"\n        ],\n        \"semantic_type\": \"\",\n        \"description\": \"\"\n      }\n    },\n    {\n      \"column\": \"\\uae30\\uc0ac\\ubcf8\\ubb38\",\n      \"properties\": {\n        \"dtype\": \"string\",\n        \"num_unique_values\": 40,\n        \"samples\": [\n          \"\\ucd08\\uace0\\ub2e4\\uce35 \\uc778\\uc1c4\\ud68c\\ub85c\\uae30\\ud310(PCB) \\uc81c\\uc870\\uae30\\uc5c5 \\uc774\\uc218\\ud398\\ud0c0\\uc2dc\\uc2a4 \\uc8fc\\uac00\\uac00 \\uae09\\ub77d\\ud588\\ub2e4. \\ub300\\uaddc\\ubaa8 \\uc720\\uc0c1\\uc99d\\uc790\\uc5d0 \\ub098\\uc124 \\uac83\\uc774\\ub780 \\uc18c\\ubb38\\uc774 \\uc8fc\\uac00\\ub97c \\ub04c\\uc5b4\\ub0b4\\ub9b0 \\uac83\\uc73c\\ub85c \\ubcf4\\uc778\\ub2e4. \\ub2e4\\ub9cc \\uc720\\uc0c1\\uc99d\\uc790 \\uac00\\ub2a5\\uc131\\uc774 \\uc791\\ub2e4\\ub294 \\uc758\\uacac\\ub3c4 \\uc788\\ub2e4.\\uc774\\uc218\\ud398\\ud0c0\\uc2dc\\uc2a4 \\uc8fc\\uc2dd\\uc740 31\\uc77c \\uc624\\ud6c4 2\\uc2dc 40\\ubd84 \\ucf54\\uc2a4\\ud53c\\uc2dc\\uc7a5\\uc5d0\\uc11c 3\\ub9cc6000\\uc6d0\\uc5d0 \\uac70\\ub798\\ub410\\ub2e4. \\uc804\\ub0a0\\ubcf4\\ub2e4 \\uc8fc\\uac00\\uac00 10.78%(4350\\uc6d0) \\ud558\\ub77d\\ud588\\ub2e4. \\uc774\\uc218\\ud398\\ud0c0\\uc2dc\\uc2a4\\uac00 \\ub300\\uaddc\\ubaa8 \\uc720\\uc0c1\\uc99d\\uc790\\uc5d0 \\ub098\\uc124 \\uac83\\uc774\\ub780 \\uc18c\\ubb38\\uc774 \\ub3cc\\uba74\\uc11c \\uc8fc\\uac00 \\ud558\\ub77d\\uc744 \\ubd80\\ucd94\\uae34 \\uac83\\uc73c\\ub85c \\ubcf4\\uc778\\ub2e4. \\uc2e0\\uc8fc\\uac00 \\ubb34\\ub354\\uae30\\ub85c \\ubc1c\\ud589\\ub418\\uba74 \\uc8fc\\uac00 \\uac00\\uce58\\uac00 \\ud76c\\uc11d\\ub418\\ub294 \\uacbd\\uc6b0\\uac00 \\ub9ce\\uc544\\uc11c\\ub2e4.\\n\\n\\n\\n\\ub300\\uad6c \\ub2ec\\uc131\\uad70\\uc758 \\uc774\\uc218\\ud398\\ud0c0\\uc2dc\\uc2a4 \\ubcf8\\uc0ac \\uc804\\uacbd. /\\ud648\\ud398\\uc774\\uc9c0 \\ucea1\\ucc98        \\ub2e4\\ub9cc \\ubc15\\uc0c1\\ud604 \\ud55c\\uad6d\\ud22c\\uc790\\uc99d\\uad8c \\uc5f0\\uad6c\\uc6d0\\uc740 \\uc774\\uc218\\ud398\\ud0c0\\uc2dc\\uc2a4\\uc758 \\uc720\\uc0c1\\uc99d\\uc790\\uc124\\uc740 \\uc720\\uc5b8\\ube44\\uc5b4\\uc5d0 \\ubd88\\uacfc\\ud558\\ub2e4\\uace0 \\ud3c9\\uac00\\ud588\\ub2e4. \\uc720\\uc0c1\\uc99d\\uc790\\ub97c \\ud1b5\\ud574 \\uc790\\uae08\\uc870\\ub2ec\\uc774 \\ud544\\uc694\\ud55c \\uc0c1\\ud669\\uc774 \\uc544\\ub2c8\\ub77c\\ub294 \\uc774\\uc720\\uc5d0\\uc11c\\ub2e4.\\uadf8\\ub294 \\u201c\\uc774\\uc218\\ud398\\ud0c0\\uc2a4\\uc2dc\\uc2a4 \\uc0dd\\uc0b0 \\uac00\\ub3d9\\ub960\\uc774 \\uc9c0\\ub09c \\uc0c1\\ubc18\\uae30 \\uae30\\uc900 93.2%\\ub85c \\uc0ac\\uc2e4\\uc0c1 \\ucd5c\\ub300 \\uc218\\uc900\\uc778 \\ub9cc\\ud07c \\uc99d\\uc124\\uc774 \\ubd88\\uac00\\ud53c\\ud55c \\uc0c1\\ud669\\uc774\\uae30\\ub294 \\ud558\\uc9c0\\ub9cc, 2025\\ub144 \\uc124\\ube44\\ud22c\\uc790(CAPEX) \\uaddc\\ubaa8\\uac00 800\\uc5b5\\uc6d0 \\uc548\\ud30e\\uc77c \\uac83\\uc73c\\ub85c \\uc608\\uc0c1\\ub418\\ub294 \\ub9cc\\ud07c \\ubcf4\\uc720\\ud55c \\ud604\\uae08\\uacfc \\ucc28\\uc785\\uc73c\\ub85c \\uac10\\ub2f9\\ud560 \\uc218 \\uc788\\ub2e4\\u201d\\uace0 \\ud588\\ub2e4.\\ubc15 \\uc5f0\\uad6c\\uc6d0\\uc740 \\ub610 \\u201c\\uc804\\ub7b5\\uc801 \\uc778\\uc218\\u00b7\\ud569\\ubcd1(M&A)\\uc744 \\uc704\\ud55c \\uc720\\uc0c1\\uc99d\\uc790 \\uac00\\ub2a5\\uc131\\ub3c4 \\ud06c\\uc9c0 \\uc54a\\ub2e4\\u201d\\uba70 \\u201c\\ud604\\uc9c0 \\uc2dc\\uc7a5\\uc5d0\\uc11c \\uac70\\ub860\\ub418\\ub294 \\uc778\\uc218 \\ud6c4\\ubcf4 \\uae30\\uc5c5\\uc740 \\uc774\\ucc28\\uc804\\uc9c0 \\uc18c\\uc7ac \\uae30\\uc5c5\\uc73c\\ub85c \\uace0\\ub2e4\\uce35\\uae30\\ud310(MLB)\\uc5d0 \\uc8fc\\ub825\\ud558\\ub294 \\uc774\\uc218\\ud398\\ud0c0\\uc2dc\\uc2a4\\uc640 \\uc0ac\\uc5c5 \\uc2dc\\ub108\\uc9c0\\ub97c \\uae30\\ub300\\ud558\\uae30 \\uc5b4\\ub835\\ub2e4\\u201d\\uace0 \\ud588\\ub2e4.\\uc774\\uc5b4 \\u201c\\uc774\\uc218\\uadf8\\ub8f9 \\ub0b4 \\ub2e4\\ub978 \\uacc4\\uc5f4\\uc0ac\\ub97c \\uc9c0\\uc6d0\\ud558\\uae30 \\uc704\\ud55c M&A \\uac00\\ub2a5\\uc131\\uc744 \\uc644\\uc804\\ud788 \\ubc30\\uc81c\\ud560 \\uc218\\ub294 \\uc5c6\\uc9c0\\ub9cc, \\uc774 \\uacbd\\uc6b0 \\uc774\\uc218\\ud398\\ud0c0\\uc2dc\\uc2a4\\uc5d0 \\ub300\\ud55c \\ud22c\\uc790\\uc790\\uc758 \\uc2e0\\ub8b0\\ub3c4 \\ud558\\ub77d\\uc744 \\ud53c\\ud560 \\uc218 \\uc5c6\\uc744 \\uac83\\u201d\\uc774\\ub77c\\uace0 \\ud588\\ub2e4.\\ubc15 \\uc5f0\\uad6c\\uc6d0\\uc740 \\u201c\\uc720\\uc0c1\\uc99d\\uc790\\uc640 \\uad00\\ub828\\ud55c \\uc774\\uc218\\ud398\\ud0c0\\uc2dc\\uc2a4\\uc758 \\uacf5\\uc2dd \\uc758\\uacac\\uc740 \\u2018\\uc0ac\\uc2e4\\ubb34\\uadfc\\u2019\\uc774\\ub2e4\\u201d\\ub77c\\uba70 \\u201c\\uc778\\uacf5\\uc9c0\\ub2a5(AI) \\uc778\\ud504\\ub77c\\ub77c\\ub294 \\uc774\\uc218\\ud398\\ud0c0\\uc2dc\\uc2a4\\uc758 \\ud22c\\uc790 \\ud3ec\\uc778\\ud2b8\\ub294 \\ud754\\ub4e4\\ub9bc\\uc774 \\uc5c6\\ub2e4\\u201d\\uace0 \\ud588\\ub2e4.\",\n          \"\\uc5fc\\ud638\\uc601 \\uc5d0\\uc2a4\\ucf10 \\ub300\\ud45c\\uac00 \\ub9e4\\uc77c\\uacbd\\uc81c\\uc640 \\uc778\\ud130\\ubdf0\\uc5d0\\uc11c \\uc0c1\\uc7a5 \\ubc30\\uacbd\\uacfc \\ud68c\\uc0ac \\ube44\\uc804\\uc5d0 \\ub300\\ud574 \\uc124\\uba85\\ud558\\uace0 \\uc788\\ub2e4.<\\uc0ac\\uc9c4=\\uc5d0\\uc2a4\\ucf10>\\u201c\\uc5d0\\uc2a4\\ucf10\\uc740 \\ub2e4\\ub144 \\uac04 \\ucd95\\uc801\\ub41c \\uc720\\uae30\\uc18c\\uc7ac \\ud569\\uc131 \\uae30\\uc220\\uc744 \\ubc14\\ud0d5\\uc73c\\ub85c \\uc720\\uae30\\ubc1c\\uad11\\ub2e4\\uc774\\uc624\\ub4dc(OLED) \\uc18c\\uc7ac \\uc2dc\\uc7a5\\uc5d0\\uc11c \\uae09\\uc131\\uc7a5\\ud558\\uace0 \\uc788\\uc2b5\\ub2c8\\ub2e4. \\ucf54\\uc2a4\\ub2e5 \\uc0c1\\uc7a5\\uc744 \\ud1b5\\ud55c \\uae30\\uc220 \\uace0\\ub3c4\\ud654\\uc640 \\uc0ac\\uc5c5 \\ub2e4\\uac01\\ud654\\ub97c \\ud1b5\\ud574 \\uc138\\uacc4 1\\uc704 OLED \\uc18c\\uc7ac \\ud68c\\uc0ac\\ub85c \\ub3c4\\uc57d\\ud558\\uace0\\uc790 \\ud569\\ub2c8\\ub2e4.\\u201d\\uc5fc\\ud638\\uc601 \\uc5d0\\uc2a4\\ucf10 \\ub300\\ud45c\\ub294 \\ucd5c\\uadfc \\ub9e4\\uc77c\\uacbd\\uc81c\\uc640 \\ub9cc\\ub098 \\uc774 \\uac19\\uc774 \\uac15\\uc870\\ud588\\ub2e4. \\uc5d0\\uc2a4\\ucf10\\uc740 2014\\ub144 \\uc124\\ub9bd\\ub41c OLED \\ud575\\uc2ec \\uc18c\\uc7ac \\ud569\\uc131\\u2022\\uc815\\uc81c \\uc804\\ubb38\\uae30\\uc5c5\\uc774\\ub2e4.OLED\\uc758 \\ubaa8\\ub4e0 \\uc720\\uae30\\uce35(\\ubc1c\\uad11\\uce35, \\ubc1c\\uad11 \\ubcf4\\uc870\\uce35, \\uacf5\\ud1b5\\uce35)\\uc5d0 \\uc0ac\\uc6a9\\ub418\\ub294 \\ud575\\uc2ec \\uc18c\\uc7ac\\ub97c \\uacf5\\uae09\\ud558\\uace0 \\uc788\\ub2e4. \\uc55e\\uc120 \\uc2b9\\ud654 \\uc815\\uc81c \\uae30\\uc220\\uc744 \\uae30\\ubc18\\uc73c\\ub85c 99.9%\\uc758 \\ucd08\\uace0\\uc21c\\ub3c4 \\uc18c\\uc7ac\\ub97c \\uc81c\\uc791\\ud560 \\uc218 \\uc788\\ub294 \\uc5ed\\ub7c9\\uc744 \\ud655\\ubcf4\\ud588\\ub2e4.\\uc5fc \\ub300\\ud45c\\ub294 \\u201c\\uc5d0\\uc2a4\\ucf10\\uc740 \\uad6d\\ub0b4 \\ud569\\uc131\\uc18c\\uc7ac \\ud68c\\uc0ac \\uc911 OLED \\uad6c\\ud604\\uc5d0 \\ub4e4\\uc5b4\\uac00\\ub294 \\uc801\\u2022\\uccad\\u2022\\ub179(RGB) \\uc138 \\uac00\\uc9c0 \\uc0c9\\uc758 \\uc18c\\uc7ac\\ub97c \\ubaa8\\ub450 \\ud569\\uc131\\ud55c \\uc774\\ub825\\uc774 \\uc788\\ub294 \\uc720\\uc77c\\ud55c \\ud68c\\uc0ac\\u201d\\ub77c\\uba70 \\u201c\\ucc3d\\uc5c5 \\ucd08\\uae30 \\uc911\\uac04\\uccb4 \\uc0dd\\uc0b0\\uc744 \\ud1b5\\ud574 \\uc800\\ubd84\\uc790\\uc758 \\ud654\\ud559\\ubb3c\\uc9c8\\uc744 \\uace0\\ubd84\\uc790\\ub85c \\ubc14\\uafb8\\ub294 \\uacfc\\uc815\\uc5d0 \\ub4e4\\uc5b4\\uac00\\ub294 \\uae30\\uc220\\ub825\\uc744 \\ucd95\\uc801\\ud588\\ub2e4\\u201d\\uace0 \\uc124\\uba85\\ud588\\ub2e4.\\uc911\\uac04\\uccb4\\ub294 \\uc544\\uc9c1 \\uc18c\\uc7ac\\uc758 \\ucd5c\\uc885 \\ud2b9\\uc131\\uc744 \\uc9c0\\ub2c8\\uc9c0 \\uc54a\\ub294 \\ub2e8\\uacc4\\uc758 \\ubb3c\\uc9c8\\uc774\\ub2e4. \\uc608\\ub97c \\ub4e4\\uc5b4 \\uc18c\\uc7ac \\uc644\\uc81c\\ud488\\uc774 \\uc6d0\\uc7ac\\ub8cc\\uc5d0\\uc11c 10\\ub2e8\\uacc4\\uc758 \\uacfc\\uc815\\uc744 \\uac70\\uccd0 \\uc81c\\ud488\\ud654\\uac00 \\ub41c\\ub2e4\\uba74, 7~8\\ub2e8\\uacc4\\uae4c\\uc9c0 \\uac70\\uce5c \\ubb3c\\uc9c8\\uc740 \\uc911\\uac04\\uccb4\\ub77c\\uace0 \\ubcfc \\uc218 \\uc788\\ub2e4. \\uc5ec\\uae30\\uc11c \\ucd94\\uac00 \\uacf5\\uc815\\uc744 \\ud1b5\\ud574 \\ucd5c\\uc885\\uc801\\uc778 \\ud2b9\\uc131\\uc774 \\uad6c\\ud604\\ub41c\\ub2e4.\\uc8fc\\uc694 \\uace0\\uac1d\\uc0ac\\ub294 \\ub514\\uc2a4\\ud50c\\ub808\\uc774 \\uae30\\uc5c5\\uc5d0 \\ud575\\uc2ec\\uc18c\\uc7ac\\ub97c \\ub0a9\\ud488\\ud558\\ub294 \\uae00\\ub85c\\ubc8c \\uae30\\uc5c5\\uc774\\ub2e4. \\uc774\\ub4e4\\uc774 \\uc5f0\\uad6c\\uac1c\\ubc1c\\uc744 \\ud1b5\\ud574 \\uc120\\ub450\\uae30\\uc220\\uc744 \\uac1c\\ubc1c\\ud558\\uba74 \\uc5d0\\uc2a4\\ucf10\\uc740 \\uc774\\ub97c \\uc591\\uc0b0\\ud558\\ub294 \\uc0dd\\uc0b0\\uae30\\uc220\\uc744 \\ub2f4\\ub2f9\\ud558\\uba70 \\uc5ed\\ud560 \\ubd84\\ub2f4\\uc744 \\ud558\\uace0 \\uc788\\ub2e4. \\ubc18\\ub3c4\\uccb4\\ub85c \\ube44\\uc720\\ud558\\uba74 TSMC \\uac19\\uc740 \\ud30c\\uc6b4\\ub4dc\\ub9ac \\uc5ed\\ud560\\uc778 \\uc148\\uc774\\ub2e4.\\uc5d0\\uc2a4\\ucf10\\uc740 2022\\ub144\\ubd80\\ud130 \\uc911\\uac04\\uccb4\\uac00 \\uc544\\ub2cc \\uc644\\uc131\\ud488\\uc758 \\ube44\\uc911\\uc744 \\ub192\\uc774\\uba74\\uc11c \\ub9e4\\ucd9c\\uacfc \\ub9c8\\uc9c4\\uc774 \\uae09\\uc131\\uc7a5\\ud558\\uace0 \\uc788\\ub2e4. \\ubbf8\\uad6d \\uc911\\uc2ec\\uc758 \\uacf5\\uae09\\ub9dd \\uc7ac\\ud3b8\\uacfc \\uc560\\ud50c\\uc758 OLED \\uc801\\uc6a9 \\ud655\\ub300\\ub3c4 \\uc218\\ud61c \\uc694\\uc778\\uc73c\\ub85c \\uaf3d\\ud78c\\ub2e4. \\ub9e4\\ucd9c\\uc740 2022\\ub144 176\\uc5b5\\uc6d0, \\uc9c0\\ub09c\\ud574 244\\uc5b5\\uc6d0\\uc73c\\ub85c \\ub6f0\\uc5c8\\ub2e4. \\uc62c\\ud574 \\uc0c1\\ubc18\\uae30\\uc5d0\\ub9cc 161\\uc5b5\\uc6d0\\uc758 \\ub9e4\\ucd9c\\uc744 \\uac70\\ub46c \\uc5f0\\ub9d0\\uae4c\\uc9c0 \\uc804\\ub144 \\ub300\\ube44 60% \\uc218\\uc900\\uc758 \\uc678\\ud615 \\ud655\\ub300\\uac00 \\uc608\\uc0c1\\ub41c\\ub2e4. \\uc791\\ub144\\uc5d0 \\ud751\\uc790\\uc804\\ud658\\uc5d0 \\uc131\\uacf5\\ud574 \\uc601\\uc5c5\\uc774\\uc775\\ub3c4 19\\uc5b5\\uc6d0\\uc744 \\uae30\\ub85d\\ud588\\ub2e4.\\uc5fc \\ub300\\ud45c\\ub294 \\u201c\\ucf54\\ub85c\\ub098\\uc5d0 \\ub530\\ub978 \\uae00\\ub85c\\ubc8c \\uacf5\\uae09\\ub9dd \\ubb38\\uc81c\\ub85c \\ud604\\uc9c0 \\uc0dd\\uc0b0 \\ube44\\uc911\\uc774 \\ud655\\ub300\\ub3fc \\uace0\\uac1d\\uc0ac\\uc758 \\uc644\\uc131\\ud488 \\ub0a9\\ud488 \\uc694\\uad6c\\uac00 \\ub298\\uc5b4 \\uc2e4\\uc801 \\uc0c1\\uc2b9\\uc744 \\uacac\\uc778\\ud558\\uace0 \\uc788\\ub2e4\\u201d\\uba70 \\u201c\\ubbf8\\uad6d \\uc911\\uc2ec\\uc758 \\uacf5\\uae09\\ub9dd \\uc7ac\\ud3b8 \\uc774\\uc288\\uc5d0 \\ub530\\ub77c \\uc911\\uad6d \\uc81c\\ud488 \\ub300\\uc2e0 \\uad6d\\uc0b0\\ud654\\uac00 \\uc9c4\\ud589\\ub418\\uace0 \\uc788\\uc5b4 \\uc218\\ud61c\\ub97c \\ubcf4\\uace0 \\uc788\\ub2e4\\u201d\\uace0 \\uc124\\uba85\\ud588\\ub2e4.\\uc774\\ubc88 \\uc0c1\\uc7a5\\uc740 \\ub9e4\\ucd9c\\uc758 70%\\ub97c \\ub2f4\\ub2f9\\ud558\\ub294 OLED \\uc18c\\uc7ac \\uc0ac\\uc5c5\\uc758 \\uacbd\\uc7c1\\ub825 \\uac15\\ud654\\uc640 \\ud568\\uaed8 2\\ucc28\\uc804\\uc9c0 \\uc18c\\uc7ac, \\uc758\\uc57d\\ud488 \\ub4f1\\uc73c\\ub85c \\uc0ac\\uc5c5 \\ud655\\uc7a5\\uc744 \\ucd94\\uc9c4\\ud558\\uae30 \\uc704\\ud55c \\uac83\\uc774\\ub2e4.\\uc720\\uae30\\ud654\\ud559\\uc18c\\uc7ac\\uc758 \\ud569\\uc131\\uc740 \\uc911\\uac04\\uccb4 \\ub2e8\\uacc4\\uae4c\\uc9c0 \\ub3d9\\uc77c\\ud574\\ub3c4 \\uc774\\ud6c4 \\uc5b4\\ub5a4 \\ubc29\\ud5a5\\uc73c\\ub85c \\ud569\\uc131\\uc744 \\ucd94\\uac00\\ud558\\ub290\\ub0d0\\uc5d0 \\ub530\\ub77c \\ubc18\\ub3c4\\uccb4, \\uc758\\uc57d\\ud488, \\ub18d\\uc57d \\ub4f1\\uc73c\\ub85c \\uc6a9\\ub3c4\\uac00 \\ub2e4\\uc591\\ud558\\uac8c \\ub098\\ub25c\\ub2e4. \\ubd84\\uc57c\\uac00 \\ub2ec\\ub77c\\ub3c4 \\uc5d0\\uc2a4\\ucf10 \\uc785\\uc7a5\\uc5d0\\uc120 \\uc911\\uac04\\uccb4 \\ud569\\uc131\\uae30\\uc220\\uacfc \\uc0dd\\uc0b0 \\ub178\\ud558\\uc6b0\\ub97c \\ud65c\\uc6a9\\ud55c \\uc720\\uad00 \\uc0b0\\uc5c5\\uc778 \\uc148\\uc774\\ub2e4.\\uc5d0\\uc2a4\\ucf10\\uc740 2\\ucc28\\uc804\\uc9c0 \\ubd84\\uc57c\\uc5d0\\uc11c \\uc804\\ud574\\uc561\\uc5d0 \\ub4e4\\uc5b4\\uac00\\ub294 \\ud2b9\\uc218 \\ucca8\\uac00\\uc81c\\ub97c \\uacf5\\uae09\\ud558\\uace0 \\uc788\\ub2e4. \\uc758\\uc57d\\ud488 \\uc601\\uc5ed\\uc5d0\\uc120 \\uc720\\uc804\\uc790 \\uac80\\uc0ac\\uc5d0 \\uc4f0\\uc774\\ub294 \\uc9c4\\ub2e8 \\uc2dc\\uc57d\\uacfc \\ub3d9\\ubb3c\\uc6a9 \\uc57d\\ud488 \\ub4f1\\uc744 \\uc0dd\\uc0b0\\ud558\\uace0 \\uc788\\ub2e4. \\ub3d9\\ubb3c\\uc6a9 \\uc57d\\ud488\\uc758 \\uacbd\\uc6b0 \\uc5d0\\uc2a4\\ud2f0\\ud31c\\uc744 \\ud611\\ub825\\uc0ac\\ub85c \\ud655\\ubcf4\\ud588\\ub2e4.\\uc5fc \\ub300\\ud45c\\ub294 \\u201c\\uc804\\uae30\\ucc28 \\ubc30\\ud130\\ub9ac\\uc758 \\uc694\\uad6c\\uc0ac\\ud56d\\uc774 \\ub192\\uc544\\uc9c0\\uba74\\uc11c \\uc804\\ud574\\uc561\\uc5d0 \\ub4e4\\uc5b4\\uac00\\ub294 \\ucca8\\uac00\\uc81c\\ub3c4 \\uacc4\\uc18d \\ubc1c\\uc804\\ud574\\uc57c \\ud574 \\uc2dc\\uc7a5 \\ud655\\ub300\\uac00 \\uc608\\uc0c1\\ub41c\\ub2e4\\u201d\\uba70 \\u201c\\ucf54\\ub85c\\ub09819 \\ud32c\\ub370\\ubbf9\\uc744 \\uac70\\uce58\\uba70 \\uad6d\\ub0b4 \\uc758\\uc57d\\ud488 \\uc790\\uae09\\ub960\\uc744 \\ub192\\uc5ec\\uc57c \\ud55c\\ub2e4\\ub294 \\ubaa9\\uc18c\\ub9ac\\uac00 \\ub354\\uc6b1 \\ucee4\\uc9c0\\uba74\\uc11c \\uc758\\uc57d\\ud488 \\uad00\\ub828 \\uc2dc\\uc7a5\\ub3c4 \\ud655\\ub300\\ub420 \\uac00\\ub2a5\\uc131\\uc774 \\ucee4\\uc84c\\ub2e4\\u201d\\uace0 \\uc804\\ub9dd\\ud588\\ub2e4.\\uc5d0\\uc2a4\\ucf10\\uc740 \\uc774\\ubc88 \\uc0c1\\uc7a5\\uc744 \\ud1b5\\ud574 \\uc870\\ub2ec\\ud55c \\uc790\\uae08\\uc73c\\ub85c \\uacf5\\uc7a5 \\uc99d\\uc124\\uc744 \\ud1b5\\ud55c \\uc0dd\\uc0b0\\ub2a5\\ub825 \\ud655\\ub300, \\uae30\\uc874 \\uacf5\\uc7a5\\uc758 \\uc2dc\\uc124 \\uace0\\ub3c4\\ud654\\uc640 \\uc5f0\\uad6c\\uac1c\\ubc1c \\ub2a5\\ub825 \\ud5a5\\uc0c1\\uc5d0 \\uc4f8 \\uacc4\\ud68d\\uc774\\ub2e4.\\uc774\\ubbf8 \\uc81c\\ucc9c \\uc81c3\\ubc14\\uc774\\uc624\\ubc38\\ub9ac \\uc0b0\\uc5c5\\ub2e8\\uc9c0\\uc5d0 6000\\ud3c9 \\uaddc\\ubaa8 \\ubd80\\uc9c0\\ub97c \\ubd84\\uc591 \\ubc1b\\uc544 \\uacf5\\uc7a5\\uc744 \\uc2e0\\ucd95\\ud560 \\uacc4\\ud68d\\uc744 \\uc138\\uc6e0\\ub2e4. \\uc2e0\\uacf5\\uc7a5\\uc740 2\\ucc28\\uc804\\uc9c0 \\uc804\\ud574\\uc561 \\ucca8\\uac00\\uc81c \\ub300\\ub7c9\\uc0dd\\uc0b0\\uacfc \\uc6b0\\uc218\\uc758\\uc57d\\ud488\\uc81c\\uc870\\u2022\\ud488\\uc9c8\\uad00\\ub9ac\\uae30\\uc900(GMP) \\uc2dc\\uc124 \\ub4f1\\uc774 \\ub4e4\\uc5b4\\uac08 \\uc608\\uc815\\uc774\\ub2e4. \\uae30\\uc874 \\uacf5\\uc7a5\\ub3c4 \\uc5f0\\uad6c\\uac1c\\ubc1c \\uc7a5\\ube44 \\ucd94\\uac00 \\ub3c4\\uc785 \\ub4f1 \\uace0\\ub3c4\\ud654\\uc5d0 \\ub098\\uc120\\ub2e4.\\uc5fc \\ub300\\ud45c\\ub294 \\u201c\\uc0c1\\uc7a5 \\ud6c4 OLED \\uc18c\\uc7ac \\uc0ac\\uc5c5\\uc758 \\uafb8\\uc900\\ud55c \\uc131\\uc7a5\\uacfc \\uc0ac\\uc5c5\\ub2e4\\uac01\\ud654\\ub97c \\ub2ec\\uc131\\ud574 2027\\ub144 \\uc62c\\ud574 \\ub300\\ube44 \\ub9e4\\ucd9c\\uc744 2.5\\ubc30 \\ub298\\ub9ac\\ub294 \\uac8c \\ubaa9\\ud45c\\u201d\\uba70 \\u201c\\uc5d0\\uc2a4\\ucf10\\uc744 \\ub354\\uc6b1 \\uc548\\uc815\\uc801\\uc774\\uace0 \\uc804\\ubb38\\uc131 \\uc788\\ub294 \\ud68c\\uc0ac\\ub85c \\ud0a4\\uc6cc OLED \\uc18c\\uc7ac \\uae30\\uc5c5 \\uc911 \\uc138\\uacc4 1\\uc704 \\uae30\\uc5c5\\uc73c\\ub85c \\uc62c\\ub824\\ub193\\uc744 \\uac83\\u201d\\uc774\\ub77c\\uace0 \\uac15\\uc870\\ud588\\ub2e4.\\ud55c\\ud3b8, \\uc5d0\\uc2a4\\ucf10\\uc740 10\\uc6d4 28\\uc77c\\ubd80\\ud130 11\\uc6d4 1\\uc77c\\uae4c\\uc9c0 \\uae30\\uad00\\ud22c\\uc790\\uc790 \\ub300\\uc0c1 \\uc218\\uc694\\uc608\\uce21\\uc5d0 \\ub098\\uc11c \\uacf5\\ubaa8\\uac00\\ub97c \\ud655\\uc815\\ud55c \\ub4a4 11\\uc6d4 7~8\\uc77c \\uc77c\\ubc18\\uccad\\uc57d\\uc744 \\uc2e4\\uc2dc\\ud560 \\uc608\\uc815\\uc774\\ub2e4. \\uacf5\\ubaa8\\uac00 \\ud76c\\ub9dd\\ubc94\\uc704\\ub294 1\\ub9cc3000~1\\ub9cc4600\\uc6d0\\uc774\\ub2e4. \\uc0c1\\uc7a5\\uc8fc\\uad00\\uc0ac\\ub294 NH\\ud22c\\uc790\\uc99d\\uad8c\\uc774\\ub2e4.\",\n          \"3\\ubd84\\uae30 \\ub9e4\\ucd9c BYD 39\\uc870\\uc6d0, \\ud14c\\uc2ac\\ub77c 35\\uc870\\uc6d0\\\"\\u4e2d\\uc815\\ubd80, \\uc0c8 \\uc804\\uae30\\ucc28 \\ubcf4\\uc870\\uae08 \\uc815\\ucc45 \\uc2dc\\ud589 \\ub355\\\"\\uc911\\uad6d \\ucd5c\\ub300 \\uc804\\uae30\\ucc28 \\uc5c5\\uccb4 \\ube44\\uc57c\\ub514(BYD)\\uac00 \\ucc98\\uc74c\\uc73c\\ub85c \\ubd84\\uae30\\ubcc4 \\ub9e4\\ucd9c\\uc5d0\\uc11c \\ubbf8\\uad6d \\ud14c\\uc2ac\\ub77c\\ub97c \\uc55e\\uc130\\ub2e4. \\n\\n\\n\\n[\\uc774\\ubbf8\\uc9c0\\ucd9c\\ucc98=AFP\\uc5f0\\ud569\\ub274\\uc2a4]30\\uc77c(\\ud604\\uc9c0\\uc2dc\\uac04) \\ube14\\ub8f8\\ubc84\\uadf8\\ud1b5\\uc2e0 \\ub4f1 \\uc8fc\\uc694 \\uc678\\uc2e0\\uc5d0 \\ub530\\ub974\\uba74 BYD\\uc758 3\\ubd84\\uae30 \\ub9e4\\ucd9c\\uc561\\uc740 \\uc804\\ub144 \\ub3d9\\uae30 \\ub300\\ube44 24% \\uc99d\\uac00\\ud55c 2010\\uc5b5\\uc704\\uc548(\\uc57d 39\\uc870\\uc6d0)\\uc73c\\ub85c \\uac19\\uc740 \\uae30\\uac04 \\ud14c\\uc2ac\\ub77c \\ub9e4\\ucd9c(252\\uc5b5\\ub2ec\\ub7ec\\u00b7\\uc57d 35\\uc870\\uc6d0)\\uc744 \\ub118\\uc5c8\\ub2e4. BYD\\uac00 \\ubd84\\uae30 \\uc804\\uae30\\ucc28 \\ud310\\ub9e4\\ub7c9\\uc5d0\\uc11c \\ud14c\\uc2ac\\ub77c\\ub97c \\uc55e\\uc120 \\uc801\\uc740 \\uc788\\uc9c0\\ub9cc \\ubd84\\uae30 \\ub9e4\\ucd9c\\uc744 \\ub118\\uc5b4\\uc120 \\uac74 \\uc774\\ubc88\\uc774 \\ucc98\\uc74c\\uc774\\ub2e4. \\ube14\\ub8f8\\ubc84\\uadf8\\ub294 BYD\\uc758 \\ud558\\uc774\\ube0c\\ub9ac\\ub4dc \\ucc28\\ub7c9 \\ud310\\ub9e4\\ub7c9\\uc774 \\uae09\\uc99d\\ud55c \\uac8c \\ud14c\\uc2ac\\ub77c \\ub9e4\\ucd9c \\ucd94\\uc6d4\\uc5d0 \\uc8fc\\ud6a8\\ud588\\ub2e4\\uace0 \\uc804\\ud588\\ub2e4. BYD\\uc758 \\uc77c\\ubd80 \\ud558\\uc774\\ube0c\\ub9ac\\ub4dc \\ubaa8\\ub378\\uc740 2000\\u339e \\uc774\\uc0c1\\uc758 \\uae34 \\uc8fc\\ud589 \\uac70\\ub9ac\\ub97c \\uc81c\\uacf5\\ud55c\\ub2e4. \\ub610 BYD\\uac00 \\ubc30\\ud130\\ub9ac, \\ubc18\\ub3c4\\uccb4, \\ubd80\\ud488\\uc744 \\uc790\\uccb4 \\uac1c\\ubc1c\\ud558\\ub294 \\ub4f1 \\uc218\\uc9c1 \\uacc4\\uc5f4\\ud654\\uc5d0 \\uc131\\uacf5\\ud558\\uba74\\uc11c \\uc790\\ub3d9\\ucc28\\ub97c \\ub354 \\uc800\\ub834\\ud558\\uac8c \\uc0dd\\uc0b0\\ud560 \\uc218 \\uc788\\ub2e4\\ub294 \\uc810\\ub3c4 \\ud55c\\ubaab\\ud588\\ub2e4\\uace0 \\ube14\\ub8f8\\ubc84\\uadf8\\ub294 \\uc804\\ud588\\ub2e4. \\uc5ec\\uae30\\uc5d0 \\uc911\\uad6d \\uc815\\ubd80\\ub294 \\uc0c8\\ub85c\\uc6b4 \\uc804\\uae30\\ucc28 \\ubcf4\\uc870\\uae08 \\uc815\\ucc45\\uc744 \\uc2dc\\ud589\\ud558\\uba70 \\uc790\\uad6d \\uc804\\uae30\\ucc28 \\ud310\\ub9e4\\ub97c \\ucd09\\uc9c4\\ud588\\ub2e4. \\ub2e4\\ub9cc 3\\ubd84\\uae30 \\uae30\\uc900 \\uc804\\uae30\\ucc28 \\ud310\\ub9e4\\ub7c9 \\ubc0f \\uc21c\\uc218\\uc775 \\ubd80\\ubb38\\uc5d0\\uc11c\\ub294 \\uc5ec\\uc804\\ud788 \\ud14c\\uc2ac\\ub77c\\uac00 \\uc6b0\\uc704\\ub97c \\ubcf4\\uc600\\ub2e4. BYD\\uc758 \\uc21c\\uc218\\uc775\\uacfc \\ud310\\ub9e4\\ub7c9\\uc740 \\uac01\\uac01 16\\uc5b5\\ub2ec\\ub7ec, 44\\ub9cc\\ub300\\ub85c \\uc9d1\\uacc4\\ub41c \\ubc18\\uba74 \\ud14c\\uc2ac\\ub77c\\uc758 \\uacbd\\uc6b0 \\uac01\\uac01 22\\uc5b5\\ub2ec\\ub7ec 46\\ub9cc\\ub300\\uc5d0 \\ub2ec\\ud588\\ub2e4.\\uc804\\ubb38\\uac00\\ub4e4\\uc740 \\uc11c\\ubc29 \\ubcf4\\ud638\\uc8fc\\uc758\\uac00 \\ud655\\uc0b0\\ud558\\ub294 \\uac00\\uc6b4\\ub370 \\ud574\\uc678 \\ud655\\uc7a5 \\uc5ec\\ubd80\\uac00 BYD \\ubbf8\\ub798 \\uc131\\uc7a5\\uc758 \\ud575\\uc2ec\\uc774 \\ub420 \\uac83\\uc73c\\ub85c \\ubcf4\\uace0 \\uc788\\ub2e4. \\uc720\\ub7fd\\uc5f0\\ud569(EU)\\uc740 30\\uc77c \\uc911\\uad6d\\uc0b0 \\uc804\\uae30\\ucc28\\uc5d0 \\ucd5c\\uace0 45% \\uad00\\uc138\\ub97c \\ubd80\\uc5ec\\ud558\\ub294 \\uc870\\uce58\\ub97c \\ud588\\ub2e4. \\ubbf8\\uad6d\\uc5d0\\uc11c\\ub294 \\ub192\\uc740 \\uad00\\uc138 \\ud0d3\\uc5d0 BYD\\uac00 \\uc544\\uc9c1 \\uc804\\uae30\\ucc28\\ub97c \\ud310\\ub9e4\\ud558\\uc9c0 \\uc54a\\uace0 \\uc788\\ub2e4.\"\n        ],\n        \"semantic_type\": \"\",\n        \"description\": \"\"\n      }\n    },\n    {\n      \"column\": \"date\",\n      \"properties\": {\n        \"dtype\": \"date\",\n        \"min\": \"2024-10-30\",\n        \"max\": \"2024-10-31\",\n        \"num_unique_values\": 2,\n        \"samples\": [\n          \"2024-10-30\",\n          \"2024-10-31\"\n        ],\n        \"semantic_type\": \"\",\n        \"description\": \"\"\n      }\n    }\n  ]\n}"
            }
          },
          "metadata": {},
          "execution_count": 14
        }
      ]
    },
    {
      "cell_type": "code",
      "source": [
        "news_df.tail()"
      ],
      "metadata": {
        "colab": {
          "base_uri": "https://localhost:8080/",
          "height": 414
        },
        "id": "MTINU80fSUVL",
        "outputId": "833213d3-102a-4c70-fad7-2f3a6435cdd9"
      },
      "execution_count": 15,
      "outputs": [
        {
          "output_type": "execute_result",
          "data": {
            "text/plain": [
              "                                           기사제목  \\\n",
              "35                     을지로 유안타증권 빌딩 5920억 PF 성공   \n",
              "36  강남 르메르디앙 개발, 내년 하반기 '첫삽'…대출 9500억, 내년 6월 만기   \n",
              "37            영풍·MBK \"고려아연 유증 저지 위한 모든 법적수단 강구\"   \n",
              "38          \"미장은 장기투자용, 국장은 단타용\"…MZ들은 국장을 왜 떠나나   \n",
              "39                   진흙탕 싸움된 고려아연 사태 … 금감원 칼 뺐다   \n",
              "\n",
              "                                                본문url  \\\n",
              "35  https://n.news.naver.com/mnews/article/014/000...   \n",
              "36  https://n.news.naver.com/mnews/article/018/000...   \n",
              "37  https://n.news.naver.com/mnews/article/015/000...   \n",
              "38  https://n.news.naver.com/mnews/article/421/000...   \n",
              "39  https://n.news.naver.com/mnews/article/009/000...   \n",
              "\n",
              "                                                 기사본문        date  \n",
              "35  캡스톤운용, 2022년 인수 후 쾌거 \\n\\n\\n\\n유안타증권 본사 전경 유안타증권...  2024-10-30  \n",
              "36  웰스어드바이저스·현대건설·마스턴운용·메리츠 '컨소''창의·혁신디자인' 시범사업지…서...  2024-10-30  \n",
              "37  김광일 MBK 파트너스 부회장(가운데).  사진=뉴스1최윤범 고려아연 회장 측이 3...  2024-10-30  \n",
              "38  [NIF2024]MZ토론회…국장은 불확실·불안정, 미장은 성장성 주목 국장 대한 애...  2024-10-30  \n",
              "39  금감원, 고려아연 유증 제동시세조종 정황도 포착한 당국불공정행위 여부 고강도 조사주...  2024-10-30  "
            ],
            "text/html": [
              "\n",
              "  <div id=\"df-a7f7c417-5df5-4ba0-9257-80fce39709fc\" class=\"colab-df-container\">\n",
              "    <div>\n",
              "<style scoped>\n",
              "    .dataframe tbody tr th:only-of-type {\n",
              "        vertical-align: middle;\n",
              "    }\n",
              "\n",
              "    .dataframe tbody tr th {\n",
              "        vertical-align: top;\n",
              "    }\n",
              "\n",
              "    .dataframe thead th {\n",
              "        text-align: right;\n",
              "    }\n",
              "</style>\n",
              "<table border=\"1\" class=\"dataframe\">\n",
              "  <thead>\n",
              "    <tr style=\"text-align: right;\">\n",
              "      <th></th>\n",
              "      <th>기사제목</th>\n",
              "      <th>본문url</th>\n",
              "      <th>기사본문</th>\n",
              "      <th>date</th>\n",
              "    </tr>\n",
              "  </thead>\n",
              "  <tbody>\n",
              "    <tr>\n",
              "      <th>35</th>\n",
              "      <td>을지로 유안타증권 빌딩 5920억 PF 성공</td>\n",
              "      <td>https://n.news.naver.com/mnews/article/014/000...</td>\n",
              "      <td>캡스톤운용, 2022년 인수 후 쾌거 \\n\\n\\n\\n유안타증권 본사 전경 유안타증권...</td>\n",
              "      <td>2024-10-30</td>\n",
              "    </tr>\n",
              "    <tr>\n",
              "      <th>36</th>\n",
              "      <td>강남 르메르디앙 개발, 내년 하반기 '첫삽'…대출 9500억, 내년 6월 만기</td>\n",
              "      <td>https://n.news.naver.com/mnews/article/018/000...</td>\n",
              "      <td>웰스어드바이저스·현대건설·마스턴운용·메리츠 '컨소''창의·혁신디자인' 시범사업지…서...</td>\n",
              "      <td>2024-10-30</td>\n",
              "    </tr>\n",
              "    <tr>\n",
              "      <th>37</th>\n",
              "      <td>영풍·MBK \"고려아연 유증 저지 위한 모든 법적수단 강구\"</td>\n",
              "      <td>https://n.news.naver.com/mnews/article/015/000...</td>\n",
              "      <td>김광일 MBK 파트너스 부회장(가운데).  사진=뉴스1최윤범 고려아연 회장 측이 3...</td>\n",
              "      <td>2024-10-30</td>\n",
              "    </tr>\n",
              "    <tr>\n",
              "      <th>38</th>\n",
              "      <td>\"미장은 장기투자용, 국장은 단타용\"…MZ들은 국장을 왜 떠나나</td>\n",
              "      <td>https://n.news.naver.com/mnews/article/421/000...</td>\n",
              "      <td>[NIF2024]MZ토론회…국장은 불확실·불안정, 미장은 성장성 주목 국장 대한 애...</td>\n",
              "      <td>2024-10-30</td>\n",
              "    </tr>\n",
              "    <tr>\n",
              "      <th>39</th>\n",
              "      <td>진흙탕 싸움된 고려아연 사태 … 금감원 칼 뺐다</td>\n",
              "      <td>https://n.news.naver.com/mnews/article/009/000...</td>\n",
              "      <td>금감원, 고려아연 유증 제동시세조종 정황도 포착한 당국불공정행위 여부 고강도 조사주...</td>\n",
              "      <td>2024-10-30</td>\n",
              "    </tr>\n",
              "  </tbody>\n",
              "</table>\n",
              "</div>\n",
              "    <div class=\"colab-df-buttons\">\n",
              "\n",
              "  <div class=\"colab-df-container\">\n",
              "    <button class=\"colab-df-convert\" onclick=\"convertToInteractive('df-a7f7c417-5df5-4ba0-9257-80fce39709fc')\"\n",
              "            title=\"Convert this dataframe to an interactive table.\"\n",
              "            style=\"display:none;\">\n",
              "\n",
              "  <svg xmlns=\"http://www.w3.org/2000/svg\" height=\"24px\" viewBox=\"0 -960 960 960\">\n",
              "    <path d=\"M120-120v-720h720v720H120Zm60-500h600v-160H180v160Zm220 220h160v-160H400v160Zm0 220h160v-160H400v160ZM180-400h160v-160H180v160Zm440 0h160v-160H620v160ZM180-180h160v-160H180v160Zm440 0h160v-160H620v160Z\"/>\n",
              "  </svg>\n",
              "    </button>\n",
              "\n",
              "  <style>\n",
              "    .colab-df-container {\n",
              "      display:flex;\n",
              "      gap: 12px;\n",
              "    }\n",
              "\n",
              "    .colab-df-convert {\n",
              "      background-color: #E8F0FE;\n",
              "      border: none;\n",
              "      border-radius: 50%;\n",
              "      cursor: pointer;\n",
              "      display: none;\n",
              "      fill: #1967D2;\n",
              "      height: 32px;\n",
              "      padding: 0 0 0 0;\n",
              "      width: 32px;\n",
              "    }\n",
              "\n",
              "    .colab-df-convert:hover {\n",
              "      background-color: #E2EBFA;\n",
              "      box-shadow: 0px 1px 2px rgba(60, 64, 67, 0.3), 0px 1px 3px 1px rgba(60, 64, 67, 0.15);\n",
              "      fill: #174EA6;\n",
              "    }\n",
              "\n",
              "    .colab-df-buttons div {\n",
              "      margin-bottom: 4px;\n",
              "    }\n",
              "\n",
              "    [theme=dark] .colab-df-convert {\n",
              "      background-color: #3B4455;\n",
              "      fill: #D2E3FC;\n",
              "    }\n",
              "\n",
              "    [theme=dark] .colab-df-convert:hover {\n",
              "      background-color: #434B5C;\n",
              "      box-shadow: 0px 1px 3px 1px rgba(0, 0, 0, 0.15);\n",
              "      filter: drop-shadow(0px 1px 2px rgba(0, 0, 0, 0.3));\n",
              "      fill: #FFFFFF;\n",
              "    }\n",
              "  </style>\n",
              "\n",
              "    <script>\n",
              "      const buttonEl =\n",
              "        document.querySelector('#df-a7f7c417-5df5-4ba0-9257-80fce39709fc button.colab-df-convert');\n",
              "      buttonEl.style.display =\n",
              "        google.colab.kernel.accessAllowed ? 'block' : 'none';\n",
              "\n",
              "      async function convertToInteractive(key) {\n",
              "        const element = document.querySelector('#df-a7f7c417-5df5-4ba0-9257-80fce39709fc');\n",
              "        const dataTable =\n",
              "          await google.colab.kernel.invokeFunction('convertToInteractive',\n",
              "                                                    [key], {});\n",
              "        if (!dataTable) return;\n",
              "\n",
              "        const docLinkHtml = 'Like what you see? Visit the ' +\n",
              "          '<a target=\"_blank\" href=https://colab.research.google.com/notebooks/data_table.ipynb>data table notebook</a>'\n",
              "          + ' to learn more about interactive tables.';\n",
              "        element.innerHTML = '';\n",
              "        dataTable['output_type'] = 'display_data';\n",
              "        await google.colab.output.renderOutput(dataTable, element);\n",
              "        const docLink = document.createElement('div');\n",
              "        docLink.innerHTML = docLinkHtml;\n",
              "        element.appendChild(docLink);\n",
              "      }\n",
              "    </script>\n",
              "  </div>\n",
              "\n",
              "\n",
              "<div id=\"df-2e57cc78-a739-4020-8fb8-9a79a135dcc9\">\n",
              "  <button class=\"colab-df-quickchart\" onclick=\"quickchart('df-2e57cc78-a739-4020-8fb8-9a79a135dcc9')\"\n",
              "            title=\"Suggest charts\"\n",
              "            style=\"display:none;\">\n",
              "\n",
              "<svg xmlns=\"http://www.w3.org/2000/svg\" height=\"24px\"viewBox=\"0 0 24 24\"\n",
              "     width=\"24px\">\n",
              "    <g>\n",
              "        <path d=\"M19 3H5c-1.1 0-2 .9-2 2v14c0 1.1.9 2 2 2h14c1.1 0 2-.9 2-2V5c0-1.1-.9-2-2-2zM9 17H7v-7h2v7zm4 0h-2V7h2v10zm4 0h-2v-4h2v4z\"/>\n",
              "    </g>\n",
              "</svg>\n",
              "  </button>\n",
              "\n",
              "<style>\n",
              "  .colab-df-quickchart {\n",
              "      --bg-color: #E8F0FE;\n",
              "      --fill-color: #1967D2;\n",
              "      --hover-bg-color: #E2EBFA;\n",
              "      --hover-fill-color: #174EA6;\n",
              "      --disabled-fill-color: #AAA;\n",
              "      --disabled-bg-color: #DDD;\n",
              "  }\n",
              "\n",
              "  [theme=dark] .colab-df-quickchart {\n",
              "      --bg-color: #3B4455;\n",
              "      --fill-color: #D2E3FC;\n",
              "      --hover-bg-color: #434B5C;\n",
              "      --hover-fill-color: #FFFFFF;\n",
              "      --disabled-bg-color: #3B4455;\n",
              "      --disabled-fill-color: #666;\n",
              "  }\n",
              "\n",
              "  .colab-df-quickchart {\n",
              "    background-color: var(--bg-color);\n",
              "    border: none;\n",
              "    border-radius: 50%;\n",
              "    cursor: pointer;\n",
              "    display: none;\n",
              "    fill: var(--fill-color);\n",
              "    height: 32px;\n",
              "    padding: 0;\n",
              "    width: 32px;\n",
              "  }\n",
              "\n",
              "  .colab-df-quickchart:hover {\n",
              "    background-color: var(--hover-bg-color);\n",
              "    box-shadow: 0 1px 2px rgba(60, 64, 67, 0.3), 0 1px 3px 1px rgba(60, 64, 67, 0.15);\n",
              "    fill: var(--button-hover-fill-color);\n",
              "  }\n",
              "\n",
              "  .colab-df-quickchart-complete:disabled,\n",
              "  .colab-df-quickchart-complete:disabled:hover {\n",
              "    background-color: var(--disabled-bg-color);\n",
              "    fill: var(--disabled-fill-color);\n",
              "    box-shadow: none;\n",
              "  }\n",
              "\n",
              "  .colab-df-spinner {\n",
              "    border: 2px solid var(--fill-color);\n",
              "    border-color: transparent;\n",
              "    border-bottom-color: var(--fill-color);\n",
              "    animation:\n",
              "      spin 1s steps(1) infinite;\n",
              "  }\n",
              "\n",
              "  @keyframes spin {\n",
              "    0% {\n",
              "      border-color: transparent;\n",
              "      border-bottom-color: var(--fill-color);\n",
              "      border-left-color: var(--fill-color);\n",
              "    }\n",
              "    20% {\n",
              "      border-color: transparent;\n",
              "      border-left-color: var(--fill-color);\n",
              "      border-top-color: var(--fill-color);\n",
              "    }\n",
              "    30% {\n",
              "      border-color: transparent;\n",
              "      border-left-color: var(--fill-color);\n",
              "      border-top-color: var(--fill-color);\n",
              "      border-right-color: var(--fill-color);\n",
              "    }\n",
              "    40% {\n",
              "      border-color: transparent;\n",
              "      border-right-color: var(--fill-color);\n",
              "      border-top-color: var(--fill-color);\n",
              "    }\n",
              "    60% {\n",
              "      border-color: transparent;\n",
              "      border-right-color: var(--fill-color);\n",
              "    }\n",
              "    80% {\n",
              "      border-color: transparent;\n",
              "      border-right-color: var(--fill-color);\n",
              "      border-bottom-color: var(--fill-color);\n",
              "    }\n",
              "    90% {\n",
              "      border-color: transparent;\n",
              "      border-bottom-color: var(--fill-color);\n",
              "    }\n",
              "  }\n",
              "</style>\n",
              "\n",
              "  <script>\n",
              "    async function quickchart(key) {\n",
              "      const quickchartButtonEl =\n",
              "        document.querySelector('#' + key + ' button');\n",
              "      quickchartButtonEl.disabled = true;  // To prevent multiple clicks.\n",
              "      quickchartButtonEl.classList.add('colab-df-spinner');\n",
              "      try {\n",
              "        const charts = await google.colab.kernel.invokeFunction(\n",
              "            'suggestCharts', [key], {});\n",
              "      } catch (error) {\n",
              "        console.error('Error during call to suggestCharts:', error);\n",
              "      }\n",
              "      quickchartButtonEl.classList.remove('colab-df-spinner');\n",
              "      quickchartButtonEl.classList.add('colab-df-quickchart-complete');\n",
              "    }\n",
              "    (() => {\n",
              "      let quickchartButtonEl =\n",
              "        document.querySelector('#df-2e57cc78-a739-4020-8fb8-9a79a135dcc9 button');\n",
              "      quickchartButtonEl.style.display =\n",
              "        google.colab.kernel.accessAllowed ? 'block' : 'none';\n",
              "    })();\n",
              "  </script>\n",
              "</div>\n",
              "\n",
              "    </div>\n",
              "  </div>\n"
            ],
            "application/vnd.google.colaboratory.intrinsic+json": {
              "type": "dataframe",
              "repr_error": "0"
            }
          },
          "metadata": {},
          "execution_count": 15
        }
      ]
    },
    {
      "cell_type": "markdown",
      "source": [
        "#  CSV 파일로 저장"
      ],
      "metadata": {
        "id": "dhFe3C6NovPw"
      }
    },
    {
      "cell_type": "code",
      "source": [
        "news_df.to_csv('article.csv')"
      ],
      "metadata": {
        "id": "-DgMzvcqoxUA"
      },
      "execution_count": 16,
      "outputs": []
    }
  ]
}